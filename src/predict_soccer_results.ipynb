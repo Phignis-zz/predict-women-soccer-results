{
  "nbformat": 4,
  "nbformat_minor": 0,
  "metadata": {
    "colab": {
      "name": "predict_soccer_results.ipynb",
      "provenance": [],
      "authorship_tag": "ABX9TyNzSwLrel37VgKjsM0tdope",
      "include_colab_link": true
    },
    "kernelspec": {
      "name": "python3",
      "display_name": "Python 3"
    },
    "language_info": {
      "name": "python"
    }
  },
  "cells": [
    {
      "cell_type": "markdown",
      "metadata": {
        "id": "view-in-github",
        "colab_type": "text"
      },
      "source": [
        "<a href=\"https://colab.research.google.com/github/Phignis/predict-women-soccer-results/blob/main/src/predict_soccer_results.ipynb\" target=\"_parent\"><img src=\"https://colab.research.google.com/assets/colab-badge.svg\" alt=\"Open In Colab\"/></a>"
      ]
    },
    {
      "cell_type": "code",
      "execution_count": null,
      "metadata": {
        "id": "0r0sqWBdRuBF"
      },
      "outputs": [],
      "source": [
        ""
      ]
    }
  ]
}