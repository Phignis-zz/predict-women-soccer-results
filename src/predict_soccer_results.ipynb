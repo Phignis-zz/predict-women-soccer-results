{
  "nbformat": 4,
  "nbformat_minor": 0,
  "metadata": {
    "colab": {
      "name": "predict_soccer_results.ipynb",
      "provenance": [],
      "collapsed_sections": []
    },
    "kernelspec": {
      "name": "python3",
      "display_name": "Python 3"
    },
    "language_info": {
      "name": "python"
    }
  },
  "cells": [
    {
      "cell_type": "markdown",
      "source": [
        "# Prédiction d'un résultat"
      ],
      "metadata": {
        "id": "HfBPNy61ECXB"
      }
    },
    {
      "cell_type": "code",
      "source": [
        "import numpy as np\n",
        "\n",
        "import pandas as pd\n",
        "\n",
        "import matplotlib.pyplot as plt\n",
        "\n",
        "import sklearn as sk\n",
        "from sklearn.model_selection import train_test_split, GridSearchCV\n",
        "from sklearn.tree import DecisionTreeClassifier\n",
        "from sklearn.linear_model import LogisticRegression\n",
        "from sklearn.metrics import accuracy_score, classification_report\n",
        "from sklearn.neighbors import KNeighborsClassifier\n",
        "from sklearn import svm\n",
        "from sklearn import metrics\n",
        "\n",
        "import seaborn as sn\n",
        "\n",
        "import random\n"
      ],
      "metadata": {
        "id": "58pIvlWm7_mZ"
      },
      "execution_count": 1,
      "outputs": []
    },
    {
      "cell_type": "markdown",
      "source": [
        "### Importation du csv. Par défaut, le fichier que l'on récupère provient de github, raw indique que ce ne sont que les données brutes, sans les balises html.\n",
        "\n",
        "__Si jamais vous ne possédez pas internet, commentez le premier read_csv, et décommentez le second, en supposant que vous avez cloné le projet git en local__"
      ],
      "metadata": {
        "id": "xMrhs420Hoja"
      }
    },
    {
      "cell_type": "code",
      "source": [
        "data_result_match = pd.read_csv(\"https://raw.githubusercontent.com/Phignis/predict-women-soccer-results/main/src/ressources/data/woman_international_cup_results.csv\", sep=\",\")\n",
        "# data_result_match = pd.read_csv(\"ressources/data/woman_international_cup_results.csv\", sep=\",\")"
      ],
      "metadata": {
        "id": "p2wEfR_s-xx5"
      },
      "execution_count": 2,
      "outputs": []
    },
    {
      "cell_type": "code",
      "source": [
        "print(data_result_match.shape)"
      ],
      "metadata": {
        "id": "hdHreKKC_-XH",
        "colab": {
          "base_uri": "https://localhost:8080/"
        },
        "outputId": "04415c63-0150-4e0c-ff55-c9a69c57358d"
      },
      "execution_count": 3,
      "outputs": [
        {
          "output_type": "stream",
          "name": "stdout",
          "text": [
            "(4296, 9)\n"
          ]
        }
      ]
    },
    {
      "cell_type": "code",
      "source": [
        "# print(data_result_match)\n",
        "data_result_match.head(5)"
      ],
      "metadata": {
        "id": "8xC24jpDCLbB",
        "colab": {
          "base_uri": "https://localhost:8080/",
          "height": 206
        },
        "outputId": "4e33f944-0d06-4fc3-8000-25aa497dd4f6"
      },
      "execution_count": 4,
      "outputs": [
        {
          "output_type": "execute_result",
          "data": {
            "text/html": [
              "\n",
              "  <div id=\"df-9eb1b7c6-0b68-47ba-96ac-a939cbae84d9\">\n",
              "    <div class=\"colab-df-container\">\n",
              "      <div>\n",
              "<style scoped>\n",
              "    .dataframe tbody tr th:only-of-type {\n",
              "        vertical-align: middle;\n",
              "    }\n",
              "\n",
              "    .dataframe tbody tr th {\n",
              "        vertical-align: top;\n",
              "    }\n",
              "\n",
              "    .dataframe thead th {\n",
              "        text-align: right;\n",
              "    }\n",
              "</style>\n",
              "<table border=\"1\" class=\"dataframe\">\n",
              "  <thead>\n",
              "    <tr style=\"text-align: right;\">\n",
              "      <th></th>\n",
              "      <th>date</th>\n",
              "      <th>home_team</th>\n",
              "      <th>away_team</th>\n",
              "      <th>home_score</th>\n",
              "      <th>away_score</th>\n",
              "      <th>tournament</th>\n",
              "      <th>city</th>\n",
              "      <th>country</th>\n",
              "      <th>neutral</th>\n",
              "    </tr>\n",
              "  </thead>\n",
              "  <tbody>\n",
              "    <tr>\n",
              "      <th>0</th>\n",
              "      <td>1969-11-01</td>\n",
              "      <td>Italy</td>\n",
              "      <td>France</td>\n",
              "      <td>1</td>\n",
              "      <td>0</td>\n",
              "      <td>Euro</td>\n",
              "      <td>Novara</td>\n",
              "      <td>Italy</td>\n",
              "      <td>False</td>\n",
              "    </tr>\n",
              "    <tr>\n",
              "      <th>1</th>\n",
              "      <td>1969-11-01</td>\n",
              "      <td>Denmark</td>\n",
              "      <td>England</td>\n",
              "      <td>4</td>\n",
              "      <td>3</td>\n",
              "      <td>Euro</td>\n",
              "      <td>Aosta</td>\n",
              "      <td>Italy</td>\n",
              "      <td>True</td>\n",
              "    </tr>\n",
              "    <tr>\n",
              "      <th>2</th>\n",
              "      <td>1969-11-02</td>\n",
              "      <td>England</td>\n",
              "      <td>France</td>\n",
              "      <td>2</td>\n",
              "      <td>0</td>\n",
              "      <td>Euro</td>\n",
              "      <td>Turin</td>\n",
              "      <td>Italy</td>\n",
              "      <td>True</td>\n",
              "    </tr>\n",
              "    <tr>\n",
              "      <th>3</th>\n",
              "      <td>1969-11-02</td>\n",
              "      <td>Italy</td>\n",
              "      <td>Denmark</td>\n",
              "      <td>3</td>\n",
              "      <td>1</td>\n",
              "      <td>Euro</td>\n",
              "      <td>Turin</td>\n",
              "      <td>Italy</td>\n",
              "      <td>False</td>\n",
              "    </tr>\n",
              "    <tr>\n",
              "      <th>4</th>\n",
              "      <td>1975-08-25</td>\n",
              "      <td>Thailand</td>\n",
              "      <td>Australia</td>\n",
              "      <td>3</td>\n",
              "      <td>2</td>\n",
              "      <td>AFC Championship</td>\n",
              "      <td>Hong Kong</td>\n",
              "      <td>Hong Kong</td>\n",
              "      <td>True</td>\n",
              "    </tr>\n",
              "  </tbody>\n",
              "</table>\n",
              "</div>\n",
              "      <button class=\"colab-df-convert\" onclick=\"convertToInteractive('df-9eb1b7c6-0b68-47ba-96ac-a939cbae84d9')\"\n",
              "              title=\"Convert this dataframe to an interactive table.\"\n",
              "              style=\"display:none;\">\n",
              "        \n",
              "  <svg xmlns=\"http://www.w3.org/2000/svg\" height=\"24px\"viewBox=\"0 0 24 24\"\n",
              "       width=\"24px\">\n",
              "    <path d=\"M0 0h24v24H0V0z\" fill=\"none\"/>\n",
              "    <path d=\"M18.56 5.44l.94 2.06.94-2.06 2.06-.94-2.06-.94-.94-2.06-.94 2.06-2.06.94zm-11 1L8.5 8.5l.94-2.06 2.06-.94-2.06-.94L8.5 2.5l-.94 2.06-2.06.94zm10 10l.94 2.06.94-2.06 2.06-.94-2.06-.94-.94-2.06-.94 2.06-2.06.94z\"/><path d=\"M17.41 7.96l-1.37-1.37c-.4-.4-.92-.59-1.43-.59-.52 0-1.04.2-1.43.59L10.3 9.45l-7.72 7.72c-.78.78-.78 2.05 0 2.83L4 21.41c.39.39.9.59 1.41.59.51 0 1.02-.2 1.41-.59l7.78-7.78 2.81-2.81c.8-.78.8-2.07 0-2.86zM5.41 20L4 18.59l7.72-7.72 1.47 1.35L5.41 20z\"/>\n",
              "  </svg>\n",
              "      </button>\n",
              "      \n",
              "  <style>\n",
              "    .colab-df-container {\n",
              "      display:flex;\n",
              "      flex-wrap:wrap;\n",
              "      gap: 12px;\n",
              "    }\n",
              "\n",
              "    .colab-df-convert {\n",
              "      background-color: #E8F0FE;\n",
              "      border: none;\n",
              "      border-radius: 50%;\n",
              "      cursor: pointer;\n",
              "      display: none;\n",
              "      fill: #1967D2;\n",
              "      height: 32px;\n",
              "      padding: 0 0 0 0;\n",
              "      width: 32px;\n",
              "    }\n",
              "\n",
              "    .colab-df-convert:hover {\n",
              "      background-color: #E2EBFA;\n",
              "      box-shadow: 0px 1px 2px rgba(60, 64, 67, 0.3), 0px 1px 3px 1px rgba(60, 64, 67, 0.15);\n",
              "      fill: #174EA6;\n",
              "    }\n",
              "\n",
              "    [theme=dark] .colab-df-convert {\n",
              "      background-color: #3B4455;\n",
              "      fill: #D2E3FC;\n",
              "    }\n",
              "\n",
              "    [theme=dark] .colab-df-convert:hover {\n",
              "      background-color: #434B5C;\n",
              "      box-shadow: 0px 1px 3px 1px rgba(0, 0, 0, 0.15);\n",
              "      filter: drop-shadow(0px 1px 2px rgba(0, 0, 0, 0.3));\n",
              "      fill: #FFFFFF;\n",
              "    }\n",
              "  </style>\n",
              "\n",
              "      <script>\n",
              "        const buttonEl =\n",
              "          document.querySelector('#df-9eb1b7c6-0b68-47ba-96ac-a939cbae84d9 button.colab-df-convert');\n",
              "        buttonEl.style.display =\n",
              "          google.colab.kernel.accessAllowed ? 'block' : 'none';\n",
              "\n",
              "        async function convertToInteractive(key) {\n",
              "          const element = document.querySelector('#df-9eb1b7c6-0b68-47ba-96ac-a939cbae84d9');\n",
              "          const dataTable =\n",
              "            await google.colab.kernel.invokeFunction('convertToInteractive',\n",
              "                                                     [key], {});\n",
              "          if (!dataTable) return;\n",
              "\n",
              "          const docLinkHtml = 'Like what you see? Visit the ' +\n",
              "            '<a target=\"_blank\" href=https://colab.research.google.com/notebooks/data_table.ipynb>data table notebook</a>'\n",
              "            + ' to learn more about interactive tables.';\n",
              "          element.innerHTML = '';\n",
              "          dataTable['output_type'] = 'display_data';\n",
              "          await google.colab.output.renderOutput(dataTable, element);\n",
              "          const docLink = document.createElement('div');\n",
              "          docLink.innerHTML = docLinkHtml;\n",
              "          element.appendChild(docLink);\n",
              "        }\n",
              "      </script>\n",
              "    </div>\n",
              "  </div>\n",
              "  "
            ],
            "text/plain": [
              "         date home_team  away_team  ...       city    country neutral\n",
              "0  1969-11-01     Italy     France  ...     Novara      Italy   False\n",
              "1  1969-11-01   Denmark    England  ...      Aosta      Italy    True\n",
              "2  1969-11-02   England     France  ...      Turin      Italy    True\n",
              "3  1969-11-02     Italy    Denmark  ...      Turin      Italy   False\n",
              "4  1975-08-25  Thailand  Australia  ...  Hong Kong  Hong Kong    True\n",
              "\n",
              "[5 rows x 9 columns]"
            ]
          },
          "metadata": {},
          "execution_count": 4
        }
      ]
    },
    {
      "cell_type": "markdown",
      "source": [
        "> A présent, mettons en forme les données, afin qu'elles soient exploitables par skLearn. Le but est de transformer toutes données ayant un intêrêt en colonne d'entier. Nous allons donc modifier la colonne home_team, away_team, tournament et le couple home_team/away_team/neutral"
      ],
      "metadata": {
        "id": "vEHfZk-KeFax"
      }
    },
    {
      "cell_type": "code",
      "source": [
        "\"\"\" On ajoute d'abord une colonne Win pour savoir quelle équipe a gagné. \n",
        " 0 égalité\n",
        " 1 victoire home\n",
        " 2 victoire away \"\"\"\n",
        "\n",
        "for index in data_result_match.index :\n",
        "    if(data_result_match.loc[index, 'home_score'] == data_result_match.loc[index, 'away_score']) :\n",
        "      data_result_match.loc[index, 'Win'] = 0\n",
        "    elif(data_result_match.loc[index, 'home_score'] > data_result_match.loc[index, 'away_score']) :\n",
        "      data_result_match.loc[index, 'Win'] = 1\n",
        "    else :\n",
        "      data_result_match.loc[index, 'Win'] = 2\n",
        "\n",
        "data_result_match['Win'] = data_result_match['Win'].astype(int)\n"
      ],
      "metadata": {
        "id": "oTs1KbqeCuFv"
      },
      "execution_count": 5,
      "outputs": []
    },
    {
      "cell_type": "code",
      "source": [
        "\"\"\" On ajoute une colonne id_away_team et id_home_team pour connaitre les équipes ayant joué, sous forme numérique pour traitement\"\"\"\n",
        "liste_pays = sorted(list(set(np.concatenate([data_result_match['home_team'], data_result_match['away_team']]))))\n",
        "\"\"\"\n",
        "liste_pays contient ici un ensemble de tout les noms de home_teams et away_teams, de manière unique. On le stocke dans un set, \n",
        "pour garentir l'unicité de chaque équipe dans tout le match\n",
        "\"\"\"\n",
        "\n",
        "for index in data_result_match.index :\n",
        "  data_result_match.loc[index, 'id_home_team']= liste_pays.index(data_result_match.loc[index, 'home_team'])\n",
        "  data_result_match.loc[index, 'id_away_team']= liste_pays.index(data_result_match.loc[index, 'away_team'])\n",
        "\n",
        "data_result_match['id_home_team'] = data_result_match['id_home_team'].astype(int) # pour avoir des entiers, par défaut c'étaient des floats\n",
        "data_result_match['id_away_team'] = data_result_match['id_away_team'].astype(int) # pour avoir des entiers, par défaut c'étaient des floats"
      ],
      "metadata": {
        "id": "rBI0ujJ7SKgX"
      },
      "execution_count": 6,
      "outputs": []
    },
    {
      "cell_type": "code",
      "source": [
        "\"\"\"\n",
        "Actuellement, les prédictions prennent entre autres id_home_team, id_away_team et neutral. Pourtant, en terme de prédiction, un France Italy sur terrain neutre et l'équivalent\n",
        "d'un Italy France sur terrain neutre. Pourtant actuellement, nos modèles ne peuvent le prendre en compte. Pour éviter cela, le but est de générer un id unique, en fonction de la situation.\n",
        "Les deux situations citées précédemment possèderaient donc le même id, tandis que les mêmes équipes sur terrain non neutre deviendrait un id différent.\n",
        "L'implémentation choisie est d'effectuer un dictionnaire, avec pour clé le tuple (id_team_1, id_team_2, terrain_neutre), et en value son id Unique, auto-incrémenté\n",
        "\"\"\"\n",
        "\n",
        "# on commence par récupéré toute la liste des équipes de notre dataset, pour pouvoir générer tout les tuples possibles, on l'a déjà calculé, c'est listePays\n",
        "liste_tuple = [0] * pow(len(liste_pays), 2)\n",
        "i = 0\n",
        "for tuple_1 in liste_pays:\n",
        "  for tuple_2 in liste_pays:\n",
        "    liste_tuple[i] = (tuple_1, tuple_2)\n",
        "    i += 1\n",
        "# on a généré tout les tuples possibles, y compris les (i, i), les (i, j) et (j, i). On ne veut pas les (i, i), on va directement les supprimer\n",
        "liste_tuple = [tuple_i_j for tuple_i_j in liste_tuple if tuple_i_j[0] != tuple_i_j[1]]\n",
        "\n",
        "etat_match_id = dict()\n",
        "i = 0\n",
        "# il reste a les rentrer dans le dictionnaire\n",
        "for current_tuple in liste_tuple:\n",
        "  etat_match_id[current_tuple + (True, )] = i\n",
        "  i += 1\n",
        "  etat_match_id[current_tuple + (False, )] = i\n",
        "  i += 1\n",
        "\n",
        "# il reste un soucis, on veut que (i, j, true) et (j, i, true) ait le même id, ce qui n'est pas le cas actuellement. Le but est donc de tout bien remettre en place\n",
        "for current_tuple in etat_match_id:\n",
        "  if(current_tuple[2] is True):\n",
        "    # alors pour (i, j, true), il existe forcément (j, i, true)\n",
        "    etat_match_id[(current_tuple[1], current_tuple[0], current_tuple[2])] = etat_match_id[current_tuple]\n",
        "\n",
        "\n",
        "# notre dictionnaire est prêt, reste a générer la nouvelle colonne, nommé etat_match\n",
        "for index in data_result_match.index :\n",
        "  data_result_match.loc[index, 'etat_match'] = etat_match_id[(data_result_match.loc[index, 'home_team'], data_result_match.loc[index, 'away_team'], data_result_match.loc[index, 'neutral'])]\n",
        "data_result_match['etat_match'] = data_result_match['etat_match'].astype(int)"
      ],
      "metadata": {
        "id": "7djGZbYViH4Q"
      },
      "execution_count": 7,
      "outputs": []
    },
    {
      "cell_type": "code",
      "source": [
        "\"\"\" On ajoute une colonne id_tournoi pour connaitre les tournois, sous forme numérique pour traitement\"\"\"\n",
        "\n",
        "liste_tournois = sorted(list(pd.unique(data_result_match['tournament'])))\n",
        "for index in data_result_match.index :\n",
        "  data_result_match.loc[index, 'id_tournoi'] = liste_tournois.index(data_result_match.loc[index, 'tournament'])\n",
        "data_result_match['id_tournoi'] = data_result_match['id_tournoi'].astype(int)"
      ],
      "metadata": {
        "id": "TBp30uZAcsQ3"
      },
      "execution_count": 8,
      "outputs": []
    },
    {
      "cell_type": "code",
      "source": [
        "\"\"\"On affiche le DataFrame pour savoir à quoi il ressemble\"\"\"\n",
        "\n",
        "data_result_match.head(10)"
      ],
      "metadata": {
        "id": "gOAOhDeFfrHi",
        "colab": {
          "base_uri": "https://localhost:8080/",
          "height": 363
        },
        "outputId": "434eb866-5b1f-4344-82f5-a617461d1a52"
      },
      "execution_count": 9,
      "outputs": [
        {
          "output_type": "execute_result",
          "data": {
            "text/html": [
              "\n",
              "  <div id=\"df-7354c40b-bcad-4318-a40f-38a05693be1a\">\n",
              "    <div class=\"colab-df-container\">\n",
              "      <div>\n",
              "<style scoped>\n",
              "    .dataframe tbody tr th:only-of-type {\n",
              "        vertical-align: middle;\n",
              "    }\n",
              "\n",
              "    .dataframe tbody tr th {\n",
              "        vertical-align: top;\n",
              "    }\n",
              "\n",
              "    .dataframe thead th {\n",
              "        text-align: right;\n",
              "    }\n",
              "</style>\n",
              "<table border=\"1\" class=\"dataframe\">\n",
              "  <thead>\n",
              "    <tr style=\"text-align: right;\">\n",
              "      <th></th>\n",
              "      <th>date</th>\n",
              "      <th>home_team</th>\n",
              "      <th>away_team</th>\n",
              "      <th>home_score</th>\n",
              "      <th>away_score</th>\n",
              "      <th>tournament</th>\n",
              "      <th>city</th>\n",
              "      <th>country</th>\n",
              "      <th>neutral</th>\n",
              "      <th>Win</th>\n",
              "      <th>id_home_team</th>\n",
              "      <th>id_away_team</th>\n",
              "      <th>etat_match</th>\n",
              "      <th>id_tournoi</th>\n",
              "    </tr>\n",
              "  </thead>\n",
              "  <tbody>\n",
              "    <tr>\n",
              "      <th>0</th>\n",
              "      <td>1969-11-01</td>\n",
              "      <td>Italy</td>\n",
              "      <td>France</td>\n",
              "      <td>1</td>\n",
              "      <td>0</td>\n",
              "      <td>Euro</td>\n",
              "      <td>Novara</td>\n",
              "      <td>Italy</td>\n",
              "      <td>False</td>\n",
              "      <td>1</td>\n",
              "      <td>90</td>\n",
              "      <td>64</td>\n",
              "      <td>34509</td>\n",
              "      <td>13</td>\n",
              "    </tr>\n",
              "    <tr>\n",
              "      <th>1</th>\n",
              "      <td>1969-11-01</td>\n",
              "      <td>Denmark</td>\n",
              "      <td>England</td>\n",
              "      <td>4</td>\n",
              "      <td>3</td>\n",
              "      <td>Euro</td>\n",
              "      <td>Aosta</td>\n",
              "      <td>Italy</td>\n",
              "      <td>True</td>\n",
              "      <td>1</td>\n",
              "      <td>47</td>\n",
              "      <td>54</td>\n",
              "      <td>18060</td>\n",
              "      <td>13</td>\n",
              "    </tr>\n",
              "    <tr>\n",
              "      <th>2</th>\n",
              "      <td>1969-11-02</td>\n",
              "      <td>England</td>\n",
              "      <td>France</td>\n",
              "      <td>2</td>\n",
              "      <td>0</td>\n",
              "      <td>Euro</td>\n",
              "      <td>Turin</td>\n",
              "      <td>Italy</td>\n",
              "      <td>True</td>\n",
              "      <td>1</td>\n",
              "      <td>54</td>\n",
              "      <td>64</td>\n",
              "      <td>20754</td>\n",
              "      <td>13</td>\n",
              "    </tr>\n",
              "    <tr>\n",
              "      <th>3</th>\n",
              "      <td>1969-11-02</td>\n",
              "      <td>Italy</td>\n",
              "      <td>Denmark</td>\n",
              "      <td>3</td>\n",
              "      <td>1</td>\n",
              "      <td>Euro</td>\n",
              "      <td>Turin</td>\n",
              "      <td>Italy</td>\n",
              "      <td>False</td>\n",
              "      <td>1</td>\n",
              "      <td>90</td>\n",
              "      <td>47</td>\n",
              "      <td>34475</td>\n",
              "      <td>13</td>\n",
              "    </tr>\n",
              "    <tr>\n",
              "      <th>4</th>\n",
              "      <td>1975-08-25</td>\n",
              "      <td>Thailand</td>\n",
              "      <td>Australia</td>\n",
              "      <td>3</td>\n",
              "      <td>2</td>\n",
              "      <td>AFC Championship</td>\n",
              "      <td>Hong Kong</td>\n",
              "      <td>Hong Kong</td>\n",
              "      <td>True</td>\n",
              "      <td>1</td>\n",
              "      <td>170</td>\n",
              "      <td>10</td>\n",
              "      <td>4158</td>\n",
              "      <td>2</td>\n",
              "    </tr>\n",
              "    <tr>\n",
              "      <th>5</th>\n",
              "      <td>1975-08-25</td>\n",
              "      <td>Hong Kong</td>\n",
              "      <td>New Zealand</td>\n",
              "      <td>0</td>\n",
              "      <td>2</td>\n",
              "      <td>AFC Championship</td>\n",
              "      <td>Hong Kong</td>\n",
              "      <td>Hong Kong</td>\n",
              "      <td>False</td>\n",
              "      <td>2</td>\n",
              "      <td>80</td>\n",
              "      <td>125</td>\n",
              "      <td>30809</td>\n",
              "      <td>2</td>\n",
              "    </tr>\n",
              "    <tr>\n",
              "      <th>6</th>\n",
              "      <td>1975-08-27</td>\n",
              "      <td>Thailand</td>\n",
              "      <td>Singapore</td>\n",
              "      <td>3</td>\n",
              "      <td>0</td>\n",
              "      <td>AFC Championship</td>\n",
              "      <td>Hong Kong</td>\n",
              "      <td>Hong Kong</td>\n",
              "      <td>True</td>\n",
              "      <td>1</td>\n",
              "      <td>170</td>\n",
              "      <td>154</td>\n",
              "      <td>59166</td>\n",
              "      <td>2</td>\n",
              "    </tr>\n",
              "    <tr>\n",
              "      <th>7</th>\n",
              "      <td>1975-08-27</td>\n",
              "      <td>New Zealand</td>\n",
              "      <td>Malaysia</td>\n",
              "      <td>3</td>\n",
              "      <td>0</td>\n",
              "      <td>AFC Championship</td>\n",
              "      <td>Hong Kong</td>\n",
              "      <td>Hong Kong</td>\n",
              "      <td>True</td>\n",
              "      <td>1</td>\n",
              "      <td>125</td>\n",
              "      <td>108</td>\n",
              "      <td>41504</td>\n",
              "      <td>2</td>\n",
              "    </tr>\n",
              "    <tr>\n",
              "      <th>8</th>\n",
              "      <td>1975-08-29</td>\n",
              "      <td>Australia</td>\n",
              "      <td>Singapore</td>\n",
              "      <td>3</td>\n",
              "      <td>0</td>\n",
              "      <td>AFC Championship</td>\n",
              "      <td>Hong Kong</td>\n",
              "      <td>Hong Kong</td>\n",
              "      <td>True</td>\n",
              "      <td>1</td>\n",
              "      <td>10</td>\n",
              "      <td>154</td>\n",
              "      <td>4126</td>\n",
              "      <td>2</td>\n",
              "    </tr>\n",
              "    <tr>\n",
              "      <th>9</th>\n",
              "      <td>1975-08-29</td>\n",
              "      <td>Hong Kong</td>\n",
              "      <td>Malaysia</td>\n",
              "      <td>0</td>\n",
              "      <td>2</td>\n",
              "      <td>AFC Championship</td>\n",
              "      <td>Hong Kong</td>\n",
              "      <td>Hong Kong</td>\n",
              "      <td>False</td>\n",
              "      <td>2</td>\n",
              "      <td>80</td>\n",
              "      <td>108</td>\n",
              "      <td>30775</td>\n",
              "      <td>2</td>\n",
              "    </tr>\n",
              "  </tbody>\n",
              "</table>\n",
              "</div>\n",
              "      <button class=\"colab-df-convert\" onclick=\"convertToInteractive('df-7354c40b-bcad-4318-a40f-38a05693be1a')\"\n",
              "              title=\"Convert this dataframe to an interactive table.\"\n",
              "              style=\"display:none;\">\n",
              "        \n",
              "  <svg xmlns=\"http://www.w3.org/2000/svg\" height=\"24px\"viewBox=\"0 0 24 24\"\n",
              "       width=\"24px\">\n",
              "    <path d=\"M0 0h24v24H0V0z\" fill=\"none\"/>\n",
              "    <path d=\"M18.56 5.44l.94 2.06.94-2.06 2.06-.94-2.06-.94-.94-2.06-.94 2.06-2.06.94zm-11 1L8.5 8.5l.94-2.06 2.06-.94-2.06-.94L8.5 2.5l-.94 2.06-2.06.94zm10 10l.94 2.06.94-2.06 2.06-.94-2.06-.94-.94-2.06-.94 2.06-2.06.94z\"/><path d=\"M17.41 7.96l-1.37-1.37c-.4-.4-.92-.59-1.43-.59-.52 0-1.04.2-1.43.59L10.3 9.45l-7.72 7.72c-.78.78-.78 2.05 0 2.83L4 21.41c.39.39.9.59 1.41.59.51 0 1.02-.2 1.41-.59l7.78-7.78 2.81-2.81c.8-.78.8-2.07 0-2.86zM5.41 20L4 18.59l7.72-7.72 1.47 1.35L5.41 20z\"/>\n",
              "  </svg>\n",
              "      </button>\n",
              "      \n",
              "  <style>\n",
              "    .colab-df-container {\n",
              "      display:flex;\n",
              "      flex-wrap:wrap;\n",
              "      gap: 12px;\n",
              "    }\n",
              "\n",
              "    .colab-df-convert {\n",
              "      background-color: #E8F0FE;\n",
              "      border: none;\n",
              "      border-radius: 50%;\n",
              "      cursor: pointer;\n",
              "      display: none;\n",
              "      fill: #1967D2;\n",
              "      height: 32px;\n",
              "      padding: 0 0 0 0;\n",
              "      width: 32px;\n",
              "    }\n",
              "\n",
              "    .colab-df-convert:hover {\n",
              "      background-color: #E2EBFA;\n",
              "      box-shadow: 0px 1px 2px rgba(60, 64, 67, 0.3), 0px 1px 3px 1px rgba(60, 64, 67, 0.15);\n",
              "      fill: #174EA6;\n",
              "    }\n",
              "\n",
              "    [theme=dark] .colab-df-convert {\n",
              "      background-color: #3B4455;\n",
              "      fill: #D2E3FC;\n",
              "    }\n",
              "\n",
              "    [theme=dark] .colab-df-convert:hover {\n",
              "      background-color: #434B5C;\n",
              "      box-shadow: 0px 1px 3px 1px rgba(0, 0, 0, 0.15);\n",
              "      filter: drop-shadow(0px 1px 2px rgba(0, 0, 0, 0.3));\n",
              "      fill: #FFFFFF;\n",
              "    }\n",
              "  </style>\n",
              "\n",
              "      <script>\n",
              "        const buttonEl =\n",
              "          document.querySelector('#df-7354c40b-bcad-4318-a40f-38a05693be1a button.colab-df-convert');\n",
              "        buttonEl.style.display =\n",
              "          google.colab.kernel.accessAllowed ? 'block' : 'none';\n",
              "\n",
              "        async function convertToInteractive(key) {\n",
              "          const element = document.querySelector('#df-7354c40b-bcad-4318-a40f-38a05693be1a');\n",
              "          const dataTable =\n",
              "            await google.colab.kernel.invokeFunction('convertToInteractive',\n",
              "                                                     [key], {});\n",
              "          if (!dataTable) return;\n",
              "\n",
              "          const docLinkHtml = 'Like what you see? Visit the ' +\n",
              "            '<a target=\"_blank\" href=https://colab.research.google.com/notebooks/data_table.ipynb>data table notebook</a>'\n",
              "            + ' to learn more about interactive tables.';\n",
              "          element.innerHTML = '';\n",
              "          dataTable['output_type'] = 'display_data';\n",
              "          await google.colab.output.renderOutput(dataTable, element);\n",
              "          const docLink = document.createElement('div');\n",
              "          docLink.innerHTML = docLinkHtml;\n",
              "          element.appendChild(docLink);\n",
              "        }\n",
              "      </script>\n",
              "    </div>\n",
              "  </div>\n",
              "  "
            ],
            "text/plain": [
              "         date    home_team    away_team  ...  id_away_team  etat_match id_tournoi\n",
              "0  1969-11-01        Italy       France  ...            64       34509         13\n",
              "1  1969-11-01      Denmark      England  ...            54       18060         13\n",
              "2  1969-11-02      England       France  ...            64       20754         13\n",
              "3  1969-11-02        Italy      Denmark  ...            47       34475         13\n",
              "4  1975-08-25     Thailand    Australia  ...            10        4158          2\n",
              "5  1975-08-25    Hong Kong  New Zealand  ...           125       30809          2\n",
              "6  1975-08-27     Thailand    Singapore  ...           154       59166          2\n",
              "7  1975-08-27  New Zealand     Malaysia  ...           108       41504          2\n",
              "8  1975-08-29    Australia    Singapore  ...           154        4126          2\n",
              "9  1975-08-29    Hong Kong     Malaysia  ...           108       30775          2\n",
              "\n",
              "[10 rows x 14 columns]"
            ]
          },
          "metadata": {},
          "execution_count": 9
        }
      ]
    },
    {
      "cell_type": "markdown",
      "source": [
        ">\n",
        "> On étudie la corrélation entre notre champ Win et les autres colonnes du dataset\n",
        ">"
      ],
      "metadata": {
        "id": "nabvb4YtcBy7"
      }
    },
    {
      "cell_type": "code",
      "source": [
        "\"\"\" Nous créons ici la matrice de correlation correspondant aux données de notre dataFrame \"\"\"\n",
        "matrice_correlation_pearson = data_result_match.corr('pearson')\n",
        "print(matrice_correlation_pearson['Win'])\n",
        "\n",
        "\n",
        "\"\"\"Ici nous visualisons les données de la matrice de corrélation pour ensuite interpréter ces résultats\"\"\"\n",
        "sn.heatmap(matrice_correlation_pearson, annot=True)\n",
        "\n",
        "plt.title(\"Matrice de Corrélation par la méthode de Pearson\")\n",
        "plt.show()"
      ],
      "metadata": {
        "id": "wG4PjZQ1xY5-",
        "colab": {
          "base_uri": "https://localhost:8080/",
          "height": 508
        },
        "outputId": "dc57444a-51f2-4e2d-d261-f5dc21853b9d"
      },
      "execution_count": 10,
      "outputs": [
        {
          "output_type": "stream",
          "name": "stdout",
          "text": [
            "home_score     -0.237448\n",
            "away_score      0.529250\n",
            "neutral        -0.033951\n",
            "Win             1.000000\n",
            "id_home_team    0.004386\n",
            "id_away_team    0.026386\n",
            "etat_match      0.026048\n",
            "id_tournoi      0.027258\n",
            "Name: Win, dtype: float64\n"
          ]
        },
        {
          "output_type": "display_data",
          "data": {
            "image/png": "[encoded data removed]",
            "text/plain": [
              "<Figure size 432x288 with 2 Axes>"
            ]
          },
          "metadata": {
            "needs_background": "light"
          }
        }
      ]
    },
    {
      "cell_type": "code",
      "source": [
        "\"\"\" Nous créons ici la matrice de correlation correspondant aux données de notre dataFrame \"\"\"\n",
        "matrice_correlation_spearman = data_result_match.corr('spearman')\n",
        "print(matrice_correlation_spearman['Win'])\n",
        "\n",
        "\n",
        "\"\"\"Ici nous visualisons les données de la matrice de corrélation pour ensuite interpréter ces résultats\"\"\"\n",
        "sn.heatmap(matrice_correlation_spearman, annot=True)\n",
        "\n",
        "plt.title(\"Matrice de Corrélation par la méthode de Spearman\")\n",
        "plt.show()"
      ],
      "metadata": {
        "id": "Sj1c8Ajoi4Kp",
        "colab": {
          "base_uri": "https://localhost:8080/",
          "height": 508
        },
        "outputId": "a694dff4-a046-4086-a55b-90937ecff99c"
      },
      "execution_count": 11,
      "outputs": [
        {
          "output_type": "stream",
          "name": "stdout",
          "text": [
            "home_score     -0.416591\n",
            "away_score      0.602136\n",
            "neutral        -0.038232\n",
            "Win             1.000000\n",
            "id_home_team   -0.002218\n",
            "id_away_team    0.028094\n",
            "etat_match      0.027464\n",
            "id_tournoi      0.036868\n",
            "Name: Win, dtype: float64\n"
          ]
        },
        {
          "output_type": "display_data",
          "data": {
            "image/png": "[encoded data removed]",
            "text/plain": [
              "<Figure size 432x288 with 2 Axes>"
            ]
          },
          "metadata": {
            "needs_background": "light"
          }
        }
      ]
    },
    {
      "cell_type": "code",
      "source": [
        "\"\"\" Nous créons ici la matrice de correlation correspondant aux données de notre dataFrame \"\"\"\n",
        "matrice_correlation_kendall = data_result_match.corr('kendall')\n",
        "print(matrice_correlation_kendall['Win'])\n",
        "\n",
        "\n",
        "\"\"\"Ici nous visualisons les données de la matrice de corrélation pour ensuite interpréter ces résultats\"\"\"\n",
        "sn.heatmap(matrice_correlation_kendall, annot=True)\n",
        "\n",
        "plt.title(\"Matrice de Corrélation par la méthode de Kendall (Tau)\")\n",
        "plt.show()"
      ],
      "metadata": {
        "id": "TR3WCEgYilip",
        "colab": {
          "base_uri": "https://localhost:8080/",
          "height": 508
        },
        "outputId": "bf0423bc-2647-4de8-fd4a-07c6985d1f22"
      },
      "execution_count": 12,
      "outputs": [
        {
          "output_type": "stream",
          "name": "stdout",
          "text": [
            "home_score     -0.337634\n",
            "away_score      0.509863\n",
            "neutral        -0.036626\n",
            "Win             1.000000\n",
            "id_home_team   -0.001821\n",
            "id_away_team    0.022006\n",
            "etat_match      0.021519\n",
            "id_tournoi      0.029887\n",
            "Name: Win, dtype: float64\n"
          ]
        },
        {
          "output_type": "display_data",
          "data": {
            "image/png": "[encoded data removed]",
            "text/plain": [
              "<Figure size 432x288 with 2 Axes>"
            ]
          },
          "metadata": {
            "needs_background": "light"
          }
        }
      ]
    },
    {
      "cell_type": "markdown",
      "source": [
        "> Entrainement du modèle, séparation du jeu de test et d'entrainement en utilisant les colonnes 'id_home_team', 'id_away_team' et 'neutral'."
      ],
      "metadata": {
        "id": "DLHC5rAscREU"
      }
    },
    {
      "cell_type": "code",
      "source": [
        "\"\"\" Ici nous choisissons d'utiliser 75% du dataset pour entraîner le modèle et 25% pour effectuer nos tests.\"\"\"\n",
        "x_train, x_test, y_train, y_test = train_test_split(data_result_match[[ 'id_home_team', 'id_away_team','neutral']], \n",
        "                                                    data_result_match['Win'], test_size = 0.25, random_state = 0)\n"
      ],
      "metadata": {
        "id": "3mi6NGzNNkXw"
      },
      "execution_count": 13,
      "outputs": []
    },
    {
      "cell_type": "code",
      "source": [
        "\"\"\" Nous entrainons le modèle en utilisant la méthode de classification avec l'arbre de décision\"\"\"\n",
        "\n",
        "arbre_decision = DecisionTreeClassifier(random_state = 0, max_depth = 20)\n",
        "clf = arbre_decision.fit(x_train, y_train)"
      ],
      "metadata": {
        "id": "KT3LOaS2O4jc"
      },
      "execution_count": 14,
      "outputs": []
    },
    {
      "cell_type": "code",
      "source": [
        "\"\"\" Nous effectuons notre classification sur notre jeu de test en utilisant le modèle entrainé avec la méthode de classification avecc l'arbre de décision \"\"\"\n",
        "\n",
        "sPredict = clf.predict(x_test)\n",
        "\n",
        "scoreArbre1 = accuracy_score(y_test, sPredict)\n",
        "\n",
        "print(scoreArbre1)"
      ],
      "metadata": {
        "id": "Dq6aPWxtLDBl",
        "colab": {
          "base_uri": "https://localhost:8080/"
        },
        "outputId": "4598a4a8-8bba-4f31-e0b7-e88af475f0eb"
      },
      "execution_count": 15,
      "outputs": [
        {
          "output_type": "stream",
          "name": "stdout",
          "text": [
            "0.5726256983240223\n"
          ]
        }
      ]
    },
    {
      "cell_type": "code",
      "source": [
        "\"\"\" Nous entrainons le modèle en utilisant la méthode de classification avec le plus proche voisin \"\"\"\n",
        "\n",
        "KNN = KNeighborsClassifier()\n",
        "clf = KNN.fit(x_train, y_train)\n"
      ],
      "metadata": {
        "id": "WUyWNDi4HUSr"
      },
      "execution_count": 16,
      "outputs": []
    },
    {
      "cell_type": "code",
      "source": [
        "\"\"\" Nous effectuons notre classification sur notre jeu de test en utilisant le modèle entrainé avec la méthode de classification avec le plus proche de voisin \"\"\"\n",
        "\n",
        "sPredict = clf.predict(x_test)\n",
        "\n",
        "scoreKNN1 = accuracy_score(y_test, sPredict);\n",
        "print(scoreKNN1)\n"
      ],
      "metadata": {
        "id": "yIolk0XQNGz_",
        "colab": {
          "base_uri": "https://localhost:8080/"
        },
        "outputId": "722a4fc9-aa3e-48de-ace0-43a4f644ba98"
      },
      "execution_count": 17,
      "outputs": [
        {
          "output_type": "stream",
          "name": "stdout",
          "text": [
            "0.5558659217877095\n"
          ]
        }
      ]
    },
    {
      "cell_type": "code",
      "source": [
        "\n",
        "\"\"\" Nous entrainons le modèle en utilisant la méthode de classification avec SVM \"\"\"\n",
        "clf = svm.SVC(gamma = 0.001)\n",
        "clf.fit(x_train, y_train)\n"
      ],
      "metadata": {
        "id": "LX0Tf8DRNBxx",
        "colab": {
          "base_uri": "https://localhost:8080/"
        },
        "outputId": "1abefc58-ed6f-45a3-c21e-b2a6e2ddb368"
      },
      "execution_count": 18,
      "outputs": [
        {
          "output_type": "execute_result",
          "data": {
            "text/plain": [
              "SVC(gamma=0.001)"
            ]
          },
          "metadata": {},
          "execution_count": 18
        }
      ]
    },
    {
      "cell_type": "code",
      "source": [
        "\"\"\" Nous effectuons notre classification sur notre jeu de test en utilisant le modèle entrainé avec la méthode de classification avec SVM \"\"\"\n",
        "\n",
        "sPredict = clf.predict(x_test)\n",
        "\n",
        "scoreSVM1 = accuracy_score(y_test, sPredict);\n",
        "print(scoreSVM1)"
      ],
      "metadata": {
        "id": "q1tzJvhNWSAc",
        "colab": {
          "base_uri": "https://localhost:8080/"
        },
        "outputId": "54373201-ef56-4f7b-a46f-c73544f7fe30"
      },
      "execution_count": 19,
      "outputs": [
        {
          "output_type": "stream",
          "name": "stdout",
          "text": [
            "0.5344506517690876\n"
          ]
        }
      ]
    },
    {
      "cell_type": "markdown",
      "source": [
        "> Entrainement du modèle, séparation du jeu de test et d'entrainement en utilisant les colonnes 'id_home_team', 'id_away_team' et 'etat_match'."
      ],
      "metadata": {
        "id": "8gCpTVa1kXrM"
      }
    },
    {
      "cell_type": "code",
      "source": [
        "\"\"\" Ici nous choisissons d'utiliser 75% du dataset pour entraîner le modèle et 25% pour effectuer nos tests.\"\"\"\n",
        "x_train, x_test, y_train, y_test = train_test_split(data_result_match[[ 'id_home_team', 'id_away_team','etat_match']], \n",
        "                                                    data_result_match['Win'], test_size = 0.25, random_state = 0)\n"
      ],
      "metadata": {
        "id": "BP0Ra9VJkyxK"
      },
      "execution_count": 20,
      "outputs": []
    },
    {
      "cell_type": "code",
      "source": [
        "\"\"\" Nous entrainons le modèle en utilisant la méthode de classification avec l'arbre de décision\"\"\"\n",
        "\n",
        "arbre_decision = DecisionTreeClassifier(random_state = 0, max_depth = 20)\n",
        "clf = arbre_decision.fit(x_train, y_train)\n",
        "\n",
        "\n"
      ],
      "metadata": {
        "id": "mVipFDwVkyxL"
      },
      "execution_count": 21,
      "outputs": []
    },
    {
      "cell_type": "code",
      "source": [
        "\"\"\" Nous effectuons notre classification sur notre jeu de test en utilisant le modèle entrainé avec la méthode de classification avecc l'arbre de décision \"\"\"\n",
        "\n",
        "sPredict = clf.predict(x_test)\n",
        "\n",
        "scoreArbre2 = accuracy_score(y_test, sPredict)\n",
        "\n",
        "print(scoreArbre2)"
      ],
      "metadata": {
        "id": "t5GFq8Q2kyxL",
        "colab": {
          "base_uri": "https://localhost:8080/"
        },
        "outputId": "2a1c3f1c-e4a7-4029-b6fc-70f94c5bf56f"
      },
      "execution_count": 22,
      "outputs": [
        {
          "output_type": "stream",
          "name": "stdout",
          "text": [
            "0.5633147113594041\n"
          ]
        }
      ]
    },
    {
      "cell_type": "code",
      "source": [
        "\"\"\" Nous entrainons le modèle en utilisant la méthode de classification avec le plus proche voisin \"\"\"\n",
        "\n",
        "KNN = KNeighborsClassifier()\n",
        "clf = KNN.fit(x_train, y_train)\n"
      ],
      "metadata": {
        "id": "kLuaa_BjkyxL"
      },
      "execution_count": 23,
      "outputs": []
    },
    {
      "cell_type": "code",
      "source": [
        "\"\"\" Nous effectuons notre classification sur notre jeu de test en utilisant le modèle entrainé avec la méthode de classification avec le plus proche de voisin \"\"\"\n",
        "\n",
        "sPredict = clf.predict(x_test)\n",
        "\n",
        "scoreKNN2 = accuracy_score(y_test, sPredict);\n",
        "print(scoreKNN2)\n"
      ],
      "metadata": {
        "id": "wSWUdzQHkyxL",
        "colab": {
          "base_uri": "https://localhost:8080/"
        },
        "outputId": "b05037bf-f64c-4fff-b25f-a19d4c597ef6"
      },
      "execution_count": 24,
      "outputs": [
        {
          "output_type": "stream",
          "name": "stdout",
          "text": [
            "0.5335195530726257\n"
          ]
        }
      ]
    },
    {
      "cell_type": "code",
      "source": [
        "\n",
        "\"\"\" Nous entrainons le modèle en utilisant la méthode de classification avec SVM \"\"\"\n",
        "clf = svm.SVC(gamma = 0.001)\n",
        "clf.fit(x_train, y_train)\n"
      ],
      "metadata": {
        "id": "oxhxoomAkyxL",
        "colab": {
          "base_uri": "https://localhost:8080/"
        },
        "outputId": "cb241ea1-8210-460a-e914-c28cb30ca36d"
      },
      "execution_count": 25,
      "outputs": [
        {
          "output_type": "execute_result",
          "data": {
            "text/plain": [
              "SVC(gamma=0.001)"
            ]
          },
          "metadata": {},
          "execution_count": 25
        }
      ]
    },
    {
      "cell_type": "code",
      "source": [
        "\"\"\" Nous effectuons notre classification sur notre jeu de test en utilisant le modèle entrainé avec la méthode de classification avec SVM \"\"\"\n",
        "\n",
        "sPredict = clf.predict(x_test)\n",
        "\n",
        "scoreSVM2 = accuracy_score(y_test, sPredict);\n",
        "print(scoreSVM2)"
      ],
      "metadata": {
        "id": "jVUulHXGkyxM",
        "colab": {
          "base_uri": "https://localhost:8080/"
        },
        "outputId": "96b42350-184f-428c-e1bc-f18981584bac"
      },
      "execution_count": 26,
      "outputs": [
        {
          "output_type": "stream",
          "name": "stdout",
          "text": [
            "0.5884543761638734\n"
          ]
        }
      ]
    },
    {
      "cell_type": "markdown",
      "source": [
        "> Entrainement du modèle, séparation du jeu de test et d'entrainement en utilisant les colonnes 'id_home_team', 'id_away_team, 'etat_match' et 'id_tournois'."
      ],
      "metadata": {
        "id": "_-F3v_8dk1Q0"
      }
    },
    {
      "cell_type": "code",
      "source": [
        "\"\"\" Ici nous choisissons d'utiliser 75% du dataset pour entraîner le modèle et 25% pour effectuer nos tests.\"\"\"\n",
        "x_train, x_test, y_train, y_test = train_test_split(data_result_match[[ 'id_home_team', 'id_away_team','etat_match', 'id_tournoi']], \n",
        "                                                    data_result_match['Win'], test_size = 0.25, random_state = 0)\n"
      ],
      "metadata": {
        "id": "Wg3HiYN_k2BD"
      },
      "execution_count": 27,
      "outputs": []
    },
    {
      "cell_type": "code",
      "source": [
        "\"\"\" Nous entrainons le modèle en utilisant la méthode de classification avec l'arbre de décision\"\"\"\n",
        "\n",
        "arbre_decision = DecisionTreeClassifier(random_state = 0, max_depth = 20)\n",
        "clf = arbre_decision.fit(x_train, y_train)\n",
        "\n",
        "\n"
      ],
      "metadata": {
        "id": "DKa5J_yXk2BE"
      },
      "execution_count": 28,
      "outputs": []
    },
    {
      "cell_type": "code",
      "source": [
        "\"\"\" Nous effectuons notre classification sur notre jeu de test en utilisant le modèle entrainé avec \n",
        "la méthode de classification avecc l'arbre de décision \"\"\"\n",
        "\n",
        "sPredict = clf.predict(x_test)\n",
        "\n",
        "scoreArbre3 = accuracy_score(y_test, sPredict)\n",
        "\n",
        "print(scoreArbre3)"
      ],
      "metadata": {
        "id": "rhMhurwkk2BE",
        "colab": {
          "base_uri": "https://localhost:8080/"
        },
        "outputId": "53406a1c-eb5f-45f3-9079-f6eecc7123fd"
      },
      "execution_count": 29,
      "outputs": [
        {
          "output_type": "stream",
          "name": "stdout",
          "text": [
            "0.5819366852886406\n"
          ]
        }
      ]
    },
    {
      "cell_type": "code",
      "source": [
        "\"\"\" Nous entrainons le modèle en utilisant la méthode de classification avec le plus proche voisin \"\"\"\n",
        "\n",
        "KNN = KNeighborsClassifier()\n",
        "clf = KNN.fit(x_train, y_train)\n"
      ],
      "metadata": {
        "id": "WZgXHjE4k2BE"
      },
      "execution_count": 30,
      "outputs": []
    },
    {
      "cell_type": "code",
      "source": [
        "\"\"\" Nous effectuons notre classification sur notre jeu de test en utilisant le modèle entrainé avec \n",
        "la méthode de classification avec le plus proche de voisin \"\"\"\n",
        "\n",
        "sPredict = clf.predict(x_test)\n",
        "\n",
        "scoreKNN3 = accuracy_score(y_test, sPredict);\n",
        "print(scoreKNN3)\n"
      ],
      "metadata": {
        "id": "48UXOzGGk2BE",
        "colab": {
          "base_uri": "https://localhost:8080/"
        },
        "outputId": "5622ae51-e8d7-45a4-9085-45a8ef825d37"
      },
      "execution_count": 31,
      "outputs": [
        {
          "output_type": "stream",
          "name": "stdout",
          "text": [
            "0.5400372439478585\n"
          ]
        }
      ]
    },
    {
      "cell_type": "code",
      "source": [
        "\n",
        "\"\"\" Nous entrainons le modèle en utilisant la méthode de classification avec SVM \"\"\"\n",
        "clf = svm.SVC(gamma = 0.001)\n",
        "clf.fit(x_train, y_train)\n"
      ],
      "metadata": {
        "id": "MaXcOrUrk2BE",
        "colab": {
          "base_uri": "https://localhost:8080/"
        },
        "outputId": "cc8f3268-a9d7-42f9-8c9c-45ceb33d9af1"
      },
      "execution_count": 32,
      "outputs": [
        {
          "output_type": "execute_result",
          "data": {
            "text/plain": [
              "SVC(gamma=0.001)"
            ]
          },
          "metadata": {},
          "execution_count": 32
        }
      ]
    },
    {
      "cell_type": "code",
      "source": [
        "\"\"\" Nous effectuons notre classification sur notre jeu de test en utilisant le modèle entrainé avec \n",
        "la méthode de classification avec SVM \"\"\"\n",
        "\n",
        "sPredict = clf.predict(x_test)\n",
        "\n",
        "scoreSVM3 = accuracy_score(y_test, sPredict);\n",
        "print(scoreSVM3)"
      ],
      "metadata": {
        "id": "ZQEY5Sqwk2BF",
        "colab": {
          "base_uri": "https://localhost:8080/"
        },
        "outputId": "8dcf6e96-359b-4701-a56c-67aaf6c8fb1f"
      },
      "execution_count": 33,
      "outputs": [
        {
          "output_type": "stream",
          "name": "stdout",
          "text": [
            "0.5921787709497207\n"
          ]
        }
      ]
    },
    {
      "cell_type": "code",
      "source": [
        "\"\"\" Nous pouvons faire varier le paramètre C et Gamma de SVM, pour pouvoir faire varier l'accuracy, et l'optimiser\"\"\"\n",
        "print(classification_report(y_test, sPredict))"
      ],
      "metadata": {
        "id": "Ru37tLH7MteQ",
        "colab": {
          "base_uri": "https://localhost:8080/"
        },
        "outputId": "a8ae21cb-f02f-4949-9a2c-a3dc7c8536d3"
      },
      "execution_count": 34,
      "outputs": [
        {
          "output_type": "stream",
          "name": "stdout",
          "text": [
            "              precision    recall  f1-score   support\n",
            "\n",
            "           0       0.18      0.03      0.06       150\n",
            "           1       0.61      0.84      0.71       574\n",
            "           2       0.57      0.43      0.49       350\n",
            "\n",
            "    accuracy                           0.59      1074\n",
            "   macro avg       0.45      0.43      0.42      1074\n",
            "weighted avg       0.54      0.59      0.55      1074\n",
            "\n"
          ]
        }
      ]
    },
    {
      "cell_type": "code",
      "source": [
        "\"\"\" On peut voir que l'accuracy de fi-scorre est à 0.59, voyons si l'on peut trouver de meilleurs paramètres \"\"\"\n",
        "param_grid = {'C':[1,10,100,1000],'gamma':[1,0.1,0.001,0.0001], 'kernel':['linear','rbf']} # dictio des C, gamma et kernel a tester\n",
        "\n",
        "grid = GridSearchCV(svm.SVC(), param_grid, n_jobs = -1, verbose = 3)  # va permettre de tester tout les paramètres possibles\n",
        "\n",
        "# grid.fit(x_train, y_train) # lance le test\n",
        "\"\"\"Surcharge le notebook, a ne pas décommenter \"\"\""
      ],
      "metadata": {
        "colab": {
          "base_uri": "https://localhost:8080/",
          "height": 36
        },
        "id": "NOgwcF4IN8ta",
        "outputId": "a76f1238-0f0c-4776-bb14-dca444e64b03"
      },
      "execution_count": 35,
      "outputs": [
        {
          "output_type": "execute_result",
          "data": {
            "application/vnd.google.colaboratory.intrinsic+json": {
              "type": "string"
            },
            "text/plain": [
              "'Surcharge le notebook, a ne pas décommenter '"
            ]
          },
          "metadata": {},
          "execution_count": 35
        }
      ]
    },
    {
      "cell_type": "code",
      "source": [
        "\"\"\"\n",
        "On vérifie si un random ne permet pas d'avoir de meilleurs résultats\n",
        "\"\"\"\n",
        "\n",
        "liste_test = []\n",
        "max_score_test = 0\n",
        "for i in range(150) :\n",
        "  for i in range(len(y_test)) :\n",
        "    liste_test.append(random.randint(0,2))\n",
        "  score_test = accuracy_score(y_test, liste_test)\n",
        "  if score_test > max_score_test :\n",
        "    max_score_test = score_test\n",
        "  liste_test = []\n",
        "print(max_score_test)"
      ],
      "metadata": {
        "id": "x8vLaEEtF4y3",
        "colab": {
          "base_uri": "https://localhost:8080/"
        },
        "outputId": "94b535f5-6477-477e-b984-b047ef3f38d1"
      },
      "execution_count": 36,
      "outputs": [
        {
          "output_type": "stream",
          "name": "stdout",
          "text": [
            "0.37337057728119183\n"
          ]
        }
      ]
    }
  ]
}