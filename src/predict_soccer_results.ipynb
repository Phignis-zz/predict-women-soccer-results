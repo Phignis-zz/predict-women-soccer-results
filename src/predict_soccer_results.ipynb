{
  "nbformat": 4,
  "nbformat_minor": 0,
  "metadata": {
    "colab": {
      "name": "predict_soccer_results.ipynb",
      "provenance": [],
      "collapsed_sections": []
    },
    "kernelspec": {
      "name": "python3",
      "display_name": "Python 3"
    },
    "language_info": {
      "name": "python"
    }
  },
  "cells": [
    {
      "cell_type": "markdown",
      "source": [
        "# Prédiction d'un résultat"
      ],
      "metadata": {
        "id": "HfBPNy61ECXB"
      }
    },
    {
      "cell_type": "code",
      "source": [
        "import numpy as np\n",
        "import pandas as pd\n",
        "import matplotlib.pyplot as plt\n",
        "import sklearn as sk\n",
        "from sklearn.model_selection import train_test_split\n",
        "from sklearn.tree import DecisionTreeClassifier\n",
        "from sklearn.metrics import accuracy_score\n",
        "from sklearn.neighbors import KNeighborsClassifier\n",
        "from sklearn import svm\n",
        "from sklearn import metrics"
      ],
      "metadata": {
        "id": "58pIvlWm7_mZ"
      },
      "execution_count": 60,
      "outputs": []
    },
    {
      "cell_type": "markdown",
      "source": [
        "### Importation du csv. Par défaut, le fichier que l'on récupère provient de github, raw indique que ce ne sont que les données brutes, sans les balises html.\n",
        "\n",
        "__Si jamais vous ne possédez pas internet, commentez le premier read_csv, et décommentez le second__"
      ],
      "metadata": {
        "id": "xMrhs420Hoja"
      }
    },
    {
      "cell_type": "code",
      "source": [
        "data_result_match = pd.read_csv(\"https://raw.githubusercontent.com/Phignis/predict-women-soccer-results/main/src/ressources/data/woman_international_cup_results.csv\", sep=\",\")\n",
        "# data_result_match = pd.read_csv(\"ressources/data/woman_international_cup_results.csv\", sep=\",\")"
      ],
      "metadata": {
        "id": "p2wEfR_s-xx5"
      },
      "execution_count": 61,
      "outputs": []
    },
    {
      "cell_type": "code",
      "source": [
        "print(data_result_match.shape)"
      ],
      "metadata": {
        "colab": {
          "base_uri": "https://localhost:8080/"
        },
        "id": "hdHreKKC_-XH",
        "outputId": "93c326ea-0a4a-4052-db28-484d1e607869"
      },
      "execution_count": 62,
      "outputs": [
        {
          "output_type": "stream",
          "name": "stdout",
          "text": [
            "(4296, 9)\n"
          ]
        }
      ]
    },
    {
      "cell_type": "code",
      "source": [
        "# print(data_result_match)\n",
        "data_result_match.head(10)"
      ],
      "metadata": {
        "colab": {
          "base_uri": "https://localhost:8080/",
          "height": 363
        },
        "id": "8xC24jpDCLbB",
        "outputId": "56453b5b-733c-4e3b-9854-3f3ef06eaa1a"
      },
      "execution_count": 63,
      "outputs": [
        {
          "output_type": "execute_result",
          "data": {
            "text/html": [
              "\n",
              "  <div id=\"df-e2d5973a-45f9-4641-9727-c4f5f9a2d5b9\">\n",
              "    <div class=\"colab-df-container\">\n",
              "      <div>\n",
              "<style scoped>\n",
              "    .dataframe tbody tr th:only-of-type {\n",
              "        vertical-align: middle;\n",
              "    }\n",
              "\n",
              "    .dataframe tbody tr th {\n",
              "        vertical-align: top;\n",
              "    }\n",
              "\n",
              "    .dataframe thead th {\n",
              "        text-align: right;\n",
              "    }\n",
              "</style>\n",
              "<table border=\"1\" class=\"dataframe\">\n",
              "  <thead>\n",
              "    <tr style=\"text-align: right;\">\n",
              "      <th></th>\n",
              "      <th>date</th>\n",
              "      <th>home_team</th>\n",
              "      <th>away_team</th>\n",
              "      <th>home_score</th>\n",
              "      <th>away_score</th>\n",
              "      <th>tournament</th>\n",
              "      <th>city</th>\n",
              "      <th>country</th>\n",
              "      <th>neutral</th>\n",
              "    </tr>\n",
              "  </thead>\n",
              "  <tbody>\n",
              "    <tr>\n",
              "      <th>0</th>\n",
              "      <td>1969-11-01</td>\n",
              "      <td>Italy</td>\n",
              "      <td>France</td>\n",
              "      <td>1</td>\n",
              "      <td>0</td>\n",
              "      <td>Euro</td>\n",
              "      <td>Novara</td>\n",
              "      <td>Italy</td>\n",
              "      <td>False</td>\n",
              "    </tr>\n",
              "    <tr>\n",
              "      <th>1</th>\n",
              "      <td>1969-11-01</td>\n",
              "      <td>Denmark</td>\n",
              "      <td>England</td>\n",
              "      <td>4</td>\n",
              "      <td>3</td>\n",
              "      <td>Euro</td>\n",
              "      <td>Aosta</td>\n",
              "      <td>Italy</td>\n",
              "      <td>True</td>\n",
              "    </tr>\n",
              "    <tr>\n",
              "      <th>2</th>\n",
              "      <td>1969-11-02</td>\n",
              "      <td>England</td>\n",
              "      <td>France</td>\n",
              "      <td>2</td>\n",
              "      <td>0</td>\n",
              "      <td>Euro</td>\n",
              "      <td>Turin</td>\n",
              "      <td>Italy</td>\n",
              "      <td>True</td>\n",
              "    </tr>\n",
              "    <tr>\n",
              "      <th>3</th>\n",
              "      <td>1969-11-02</td>\n",
              "      <td>Italy</td>\n",
              "      <td>Denmark</td>\n",
              "      <td>3</td>\n",
              "      <td>1</td>\n",
              "      <td>Euro</td>\n",
              "      <td>Turin</td>\n",
              "      <td>Italy</td>\n",
              "      <td>False</td>\n",
              "    </tr>\n",
              "    <tr>\n",
              "      <th>4</th>\n",
              "      <td>1975-08-25</td>\n",
              "      <td>Thailand</td>\n",
              "      <td>Australia</td>\n",
              "      <td>3</td>\n",
              "      <td>2</td>\n",
              "      <td>AFC Championship</td>\n",
              "      <td>Hong Kong</td>\n",
              "      <td>Hong Kong</td>\n",
              "      <td>True</td>\n",
              "    </tr>\n",
              "    <tr>\n",
              "      <th>5</th>\n",
              "      <td>1975-08-25</td>\n",
              "      <td>Hong Kong</td>\n",
              "      <td>New Zealand</td>\n",
              "      <td>0</td>\n",
              "      <td>2</td>\n",
              "      <td>AFC Championship</td>\n",
              "      <td>Hong Kong</td>\n",
              "      <td>Hong Kong</td>\n",
              "      <td>False</td>\n",
              "    </tr>\n",
              "    <tr>\n",
              "      <th>6</th>\n",
              "      <td>1975-08-27</td>\n",
              "      <td>Thailand</td>\n",
              "      <td>Singapore</td>\n",
              "      <td>3</td>\n",
              "      <td>0</td>\n",
              "      <td>AFC Championship</td>\n",
              "      <td>Hong Kong</td>\n",
              "      <td>Hong Kong</td>\n",
              "      <td>True</td>\n",
              "    </tr>\n",
              "    <tr>\n",
              "      <th>7</th>\n",
              "      <td>1975-08-27</td>\n",
              "      <td>New Zealand</td>\n",
              "      <td>Malaysia</td>\n",
              "      <td>3</td>\n",
              "      <td>0</td>\n",
              "      <td>AFC Championship</td>\n",
              "      <td>Hong Kong</td>\n",
              "      <td>Hong Kong</td>\n",
              "      <td>True</td>\n",
              "    </tr>\n",
              "    <tr>\n",
              "      <th>8</th>\n",
              "      <td>1975-08-29</td>\n",
              "      <td>Australia</td>\n",
              "      <td>Singapore</td>\n",
              "      <td>3</td>\n",
              "      <td>0</td>\n",
              "      <td>AFC Championship</td>\n",
              "      <td>Hong Kong</td>\n",
              "      <td>Hong Kong</td>\n",
              "      <td>True</td>\n",
              "    </tr>\n",
              "    <tr>\n",
              "      <th>9</th>\n",
              "      <td>1975-08-29</td>\n",
              "      <td>Hong Kong</td>\n",
              "      <td>Malaysia</td>\n",
              "      <td>0</td>\n",
              "      <td>2</td>\n",
              "      <td>AFC Championship</td>\n",
              "      <td>Hong Kong</td>\n",
              "      <td>Hong Kong</td>\n",
              "      <td>False</td>\n",
              "    </tr>\n",
              "  </tbody>\n",
              "</table>\n",
              "</div>\n",
              "      <button class=\"colab-df-convert\" onclick=\"convertToInteractive('df-e2d5973a-45f9-4641-9727-c4f5f9a2d5b9')\"\n",
              "              title=\"Convert this dataframe to an interactive table.\"\n",
              "              style=\"display:none;\">\n",
              "        \n",
              "  <svg xmlns=\"http://www.w3.org/2000/svg\" height=\"24px\"viewBox=\"0 0 24 24\"\n",
              "       width=\"24px\">\n",
              "    <path d=\"M0 0h24v24H0V0z\" fill=\"none\"/>\n",
              "    <path d=\"M18.56 5.44l.94 2.06.94-2.06 2.06-.94-2.06-.94-.94-2.06-.94 2.06-2.06.94zm-11 1L8.5 8.5l.94-2.06 2.06-.94-2.06-.94L8.5 2.5l-.94 2.06-2.06.94zm10 10l.94 2.06.94-2.06 2.06-.94-2.06-.94-.94-2.06-.94 2.06-2.06.94z\"/><path d=\"M17.41 7.96l-1.37-1.37c-.4-.4-.92-.59-1.43-.59-.52 0-1.04.2-1.43.59L10.3 9.45l-7.72 7.72c-.78.78-.78 2.05 0 2.83L4 21.41c.39.39.9.59 1.41.59.51 0 1.02-.2 1.41-.59l7.78-7.78 2.81-2.81c.8-.78.8-2.07 0-2.86zM5.41 20L4 18.59l7.72-7.72 1.47 1.35L5.41 20z\"/>\n",
              "  </svg>\n",
              "      </button>\n",
              "      \n",
              "  <style>\n",
              "    .colab-df-container {\n",
              "      display:flex;\n",
              "      flex-wrap:wrap;\n",
              "      gap: 12px;\n",
              "    }\n",
              "\n",
              "    .colab-df-convert {\n",
              "      background-color: #E8F0FE;\n",
              "      border: none;\n",
              "      border-radius: 50%;\n",
              "      cursor: pointer;\n",
              "      display: none;\n",
              "      fill: #1967D2;\n",
              "      height: 32px;\n",
              "      padding: 0 0 0 0;\n",
              "      width: 32px;\n",
              "    }\n",
              "\n",
              "    .colab-df-convert:hover {\n",
              "      background-color: #E2EBFA;\n",
              "      box-shadow: 0px 1px 2px rgba(60, 64, 67, 0.3), 0px 1px 3px 1px rgba(60, 64, 67, 0.15);\n",
              "      fill: #174EA6;\n",
              "    }\n",
              "\n",
              "    [theme=dark] .colab-df-convert {\n",
              "      background-color: #3B4455;\n",
              "      fill: #D2E3FC;\n",
              "    }\n",
              "\n",
              "    [theme=dark] .colab-df-convert:hover {\n",
              "      background-color: #434B5C;\n",
              "      box-shadow: 0px 1px 3px 1px rgba(0, 0, 0, 0.15);\n",
              "      filter: drop-shadow(0px 1px 2px rgba(0, 0, 0, 0.3));\n",
              "      fill: #FFFFFF;\n",
              "    }\n",
              "  </style>\n",
              "\n",
              "      <script>\n",
              "        const buttonEl =\n",
              "          document.querySelector('#df-e2d5973a-45f9-4641-9727-c4f5f9a2d5b9 button.colab-df-convert');\n",
              "        buttonEl.style.display =\n",
              "          google.colab.kernel.accessAllowed ? 'block' : 'none';\n",
              "\n",
              "        async function convertToInteractive(key) {\n",
              "          const element = document.querySelector('#df-e2d5973a-45f9-4641-9727-c4f5f9a2d5b9');\n",
              "          const dataTable =\n",
              "            await google.colab.kernel.invokeFunction('convertToInteractive',\n",
              "                                                     [key], {});\n",
              "          if (!dataTable) return;\n",
              "\n",
              "          const docLinkHtml = 'Like what you see? Visit the ' +\n",
              "            '<a target=\"_blank\" href=https://colab.research.google.com/notebooks/data_table.ipynb>data table notebook</a>'\n",
              "            + ' to learn more about interactive tables.';\n",
              "          element.innerHTML = '';\n",
              "          dataTable['output_type'] = 'display_data';\n",
              "          await google.colab.output.renderOutput(dataTable, element);\n",
              "          const docLink = document.createElement('div');\n",
              "          docLink.innerHTML = docLinkHtml;\n",
              "          element.appendChild(docLink);\n",
              "        }\n",
              "      </script>\n",
              "    </div>\n",
              "  </div>\n",
              "  "
            ],
            "text/plain": [
              "         date    home_team    away_team  ...       city    country neutral\n",
              "0  1969-11-01        Italy       France  ...     Novara      Italy   False\n",
              "1  1969-11-01      Denmark      England  ...      Aosta      Italy    True\n",
              "2  1969-11-02      England       France  ...      Turin      Italy    True\n",
              "3  1969-11-02        Italy      Denmark  ...      Turin      Italy   False\n",
              "4  1975-08-25     Thailand    Australia  ...  Hong Kong  Hong Kong    True\n",
              "5  1975-08-25    Hong Kong  New Zealand  ...  Hong Kong  Hong Kong   False\n",
              "6  1975-08-27     Thailand    Singapore  ...  Hong Kong  Hong Kong    True\n",
              "7  1975-08-27  New Zealand     Malaysia  ...  Hong Kong  Hong Kong    True\n",
              "8  1975-08-29    Australia    Singapore  ...  Hong Kong  Hong Kong    True\n",
              "9  1975-08-29    Hong Kong     Malaysia  ...  Hong Kong  Hong Kong   False\n",
              "\n",
              "[10 rows x 9 columns]"
            ]
          },
          "metadata": {},
          "execution_count": 63
        }
      ]
    },
    {
      "cell_type": "code",
      "source": [
        "\n",
        "\"\"\" On ajoute une colonne Win pour savoir quelle équipe a gagné. \n",
        " 0 égalité\n",
        " 1 victoire home\n",
        " 2 victoire away \"\"\"\n",
        "print(data_result_match.shape[0])\n",
        "\n",
        "for index in data_result_match.index :\n",
        "    if(data_result_match.loc[index, 'home_score'] == data_result_match.loc[index, 'away_score']) :\n",
        "      win[index] = 0\n",
        "    elif(data_result_match.loc[index, 'home_score'] > data_result_match.loc[index, 'away_score']) :\n",
        "      win[index] = 1\n",
        "    else :\n",
        "      win[index] = 2\n",
        "\n",
        "data_result_match['Win'] = win\n"
      ],
      "metadata": {
        "id": "oTs1KbqeCuFv",
        "colab": {
          "base_uri": "https://localhost:8080/"
        },
        "outputId": "d089e06e-d000-493c-b9c8-4c2441fd90b1"
      },
      "execution_count": 64,
      "outputs": [
        {
          "output_type": "stream",
          "name": "stdout",
          "text": [
            "4296\n"
          ]
        }
      ]
    },
    {
      "cell_type": "code",
      "source": [
        "array_temp = np.array(data_result_match[['away_team', 'home_team']])\n",
        "\n",
        "print(len(pd.unique(data_result_match['home_team'])))\n",
        "print(len(pd.unique(data_result_match['away_team'])))\n",
        "\n",
        "print(set(np.concatenate([pd.unique(data_result_match['home_team']), pd.unique(data_result_match['away_team'])])))"
      ],
      "metadata": {
        "colab": {
          "base_uri": "https://localhost:8080/"
        },
        "id": "rBI0ujJ7SKgX",
        "outputId": "3a10027f-4388-4aad-88a3-24b82e66dfae"
      },
      "execution_count": 65,
      "outputs": [
        {
          "output_type": "stream",
          "name": "stdout",
          "text": [
            "188\n",
            "184\n",
            "{'British Virgin Islands', 'Croatia', 'Costa Rica', 'Netherlands Antilles', 'Singapore', 'U.S. Virgin Islands', 'Faroe Islands', 'Czechoslovakia', 'São Tomé and Príncipe', 'Saint Vincent and the Grenadines', 'Mexico', 'Benin', 'Slovenia', 'Uganda', 'Guam', 'Turkey', 'Macedonia', 'Sweden', 'Papua New Guinea', 'Tajikistan', 'Lesotho', 'Great Britain', 'Serbia', 'Slovakia', 'Suriname', 'Vanuatu', 'Iran', 'Azerbaijan', 'Guinea', 'Cameroon', 'Bosnia and Herzegovina', 'Japan', 'Djibouti', 'Andorra', 'Jordan', 'El Salvador', 'Namibia', 'Kuwait', 'Wales', 'Honduras', 'Guyana', 'Guadeloupe', 'Grenada', 'Kosovo', 'Luxembourg', 'Trinidad and Tobago', 'China PR', 'Tonga', 'Belize', 'Curaçao', 'Thailand', 'Indonesia', 'Panama', 'Bolivia', 'Ethiopia', 'Kyrgyzstan', 'Congo', 'Mauritius', 'New Zealand', 'South Korea', 'Belarus', 'Senegal', 'Malawi', 'North Korea', 'Nigeria', 'Mozambique', 'Myanmar', 'Nepal', 'India', 'Tunisia', 'South Africa', 'Ecuador', 'Bulgaria', 'Colombia', 'Bahamas', 'Philippines', 'Yugoslavia', 'Serbia and Montenegro', 'Equatorial Guinea', 'Botswana', 'France', 'FR Yugoslavia', 'Algeria', 'Paraguay', 'Comoros', 'Saint Lucia', 'Jamaica', 'Turks and Caicos Islands', 'Albania', 'Eswatini', 'Russia', 'Angola', 'Denmark', 'Fiji', 'Western Australia', 'Samoa', 'Kenya', 'Uzbekistan', 'Dominica', 'Latvia', 'Zimbabwe', 'India N', 'Hungary', 'Israel', 'Germany', 'Anguilla', 'Belgium', 'Nicaragua', 'American Samoa', 'Moldova', 'DR Congo', 'Burkina Faso', 'Malta', 'India S', 'Palestine', 'Cayman Islands', 'Republic of Ireland', 'Austria', 'Greece', 'Gambia', 'Iraq', 'New Caledonia', 'Spain', 'Cuba', 'Georgia', 'Poland', 'Chile', 'Morocco', 'Lithuania', 'Guatemala', 'Australia', 'Puerto Rico', 'Aruba', 'Taiwan', 'Norway', 'Antigua and Barbuda', 'Romania', 'Cook Islands', 'Sierra Leone', 'United Arab Emirates', 'Zambia', 'Italy', 'Canada', 'Syria', 'Bermuda', 'Saint Kitts and Nevis', 'Ivory Coast', 'Mali', 'Ghana', 'Northern Ireland', 'Dominican Republic', 'Togo', 'Venezuela', 'Czech Republic', 'United States', 'Libya', 'Estonia', 'Basque Country', 'Finland', 'Hong Kong', 'Bahrain', 'Barbados', 'Haiti', 'Argentina', 'Ukraine', 'Central African Republic', 'Scotland', 'Solomon Islands', 'Maldives', 'Kazakhstan', 'Netherlands', 'Malaysia', 'Armenia', 'Lebanon', 'Brazil', 'Switzerland', 'Tahiti', 'Bangladesh', 'Martinique', 'Iceland', 'Eritrea', 'Tanzania', 'Uruguay', 'Gabon', 'England', 'Rwanda', 'Portugal', 'Peru', 'Vietnam', 'Réunion', 'Montenegro', 'Egypt'}\n"
          ]
        }
      ]
    },
    {
      "cell_type": "code",
      "source": [
        "\n",
        "\"\"\" On ajoute une colonne id_away_team et id_home_team pour connaitre les équipes ayant joué, sous forme numérique pour traitement\"\"\"\n",
        "\n",
        "id_home_team = []\n",
        "id_away_team = []\n",
        "for index in data_result_match.index :\n",
        " id_home_team += [hash(data_result_match.loc[index, 'home_team'])]\n",
        " id_away_team += [hash(data_result_match.loc[index, 'away_team'])]\n",
        "\n",
        "data_result_match['id_home_team'] = id_home_team\n",
        "data_result_match['id_away_team'] = id_away_team\n",
        "\n",
        "data_result_match.head(10)\n"
      ],
      "metadata": {
        "colab": {
          "base_uri": "https://localhost:8080/",
          "height": 363
        },
        "id": "IskP-_LYSEtD",
        "outputId": "fbae2e87-7e96-4678-92d4-7fe2a2828c52"
      },
      "execution_count": 66,
      "outputs": [
        {
          "output_type": "execute_result",
          "data": {
            "text/html": [
              "\n",
              "  <div id=\"df-69d8064e-210c-4db6-bf5b-272111697e35\">\n",
              "    <div class=\"colab-df-container\">\n",
              "      <div>\n",
              "<style scoped>\n",
              "    .dataframe tbody tr th:only-of-type {\n",
              "        vertical-align: middle;\n",
              "    }\n",
              "\n",
              "    .dataframe tbody tr th {\n",
              "        vertical-align: top;\n",
              "    }\n",
              "\n",
              "    .dataframe thead th {\n",
              "        text-align: right;\n",
              "    }\n",
              "</style>\n",
              "<table border=\"1\" class=\"dataframe\">\n",
              "  <thead>\n",
              "    <tr style=\"text-align: right;\">\n",
              "      <th></th>\n",
              "      <th>date</th>\n",
              "      <th>home_team</th>\n",
              "      <th>away_team</th>\n",
              "      <th>home_score</th>\n",
              "      <th>away_score</th>\n",
              "      <th>tournament</th>\n",
              "      <th>city</th>\n",
              "      <th>country</th>\n",
              "      <th>neutral</th>\n",
              "      <th>Win</th>\n",
              "      <th>id_home_team</th>\n",
              "      <th>id_away_team</th>\n",
              "    </tr>\n",
              "  </thead>\n",
              "  <tbody>\n",
              "    <tr>\n",
              "      <th>0</th>\n",
              "      <td>1969-11-01</td>\n",
              "      <td>Italy</td>\n",
              "      <td>France</td>\n",
              "      <td>1</td>\n",
              "      <td>0</td>\n",
              "      <td>Euro</td>\n",
              "      <td>Novara</td>\n",
              "      <td>Italy</td>\n",
              "      <td>False</td>\n",
              "      <td>1</td>\n",
              "      <td>-3779540873683691148</td>\n",
              "      <td>-3639685518696651049</td>\n",
              "    </tr>\n",
              "    <tr>\n",
              "      <th>1</th>\n",
              "      <td>1969-11-01</td>\n",
              "      <td>Denmark</td>\n",
              "      <td>England</td>\n",
              "      <td>4</td>\n",
              "      <td>3</td>\n",
              "      <td>Euro</td>\n",
              "      <td>Aosta</td>\n",
              "      <td>Italy</td>\n",
              "      <td>True</td>\n",
              "      <td>1</td>\n",
              "      <td>8762829069385907453</td>\n",
              "      <td>6659840675732466</td>\n",
              "    </tr>\n",
              "    <tr>\n",
              "      <th>2</th>\n",
              "      <td>1969-11-02</td>\n",
              "      <td>England</td>\n",
              "      <td>France</td>\n",
              "      <td>2</td>\n",
              "      <td>0</td>\n",
              "      <td>Euro</td>\n",
              "      <td>Turin</td>\n",
              "      <td>Italy</td>\n",
              "      <td>True</td>\n",
              "      <td>1</td>\n",
              "      <td>6659840675732466</td>\n",
              "      <td>-3639685518696651049</td>\n",
              "    </tr>\n",
              "    <tr>\n",
              "      <th>3</th>\n",
              "      <td>1969-11-02</td>\n",
              "      <td>Italy</td>\n",
              "      <td>Denmark</td>\n",
              "      <td>3</td>\n",
              "      <td>1</td>\n",
              "      <td>Euro</td>\n",
              "      <td>Turin</td>\n",
              "      <td>Italy</td>\n",
              "      <td>False</td>\n",
              "      <td>1</td>\n",
              "      <td>-3779540873683691148</td>\n",
              "      <td>8762829069385907453</td>\n",
              "    </tr>\n",
              "    <tr>\n",
              "      <th>4</th>\n",
              "      <td>1975-08-25</td>\n",
              "      <td>Thailand</td>\n",
              "      <td>Australia</td>\n",
              "      <td>3</td>\n",
              "      <td>2</td>\n",
              "      <td>AFC Championship</td>\n",
              "      <td>Hong Kong</td>\n",
              "      <td>Hong Kong</td>\n",
              "      <td>True</td>\n",
              "      <td>1</td>\n",
              "      <td>-650581084020804468</td>\n",
              "      <td>5356949618074078544</td>\n",
              "    </tr>\n",
              "    <tr>\n",
              "      <th>5</th>\n",
              "      <td>1975-08-25</td>\n",
              "      <td>Hong Kong</td>\n",
              "      <td>New Zealand</td>\n",
              "      <td>0</td>\n",
              "      <td>2</td>\n",
              "      <td>AFC Championship</td>\n",
              "      <td>Hong Kong</td>\n",
              "      <td>Hong Kong</td>\n",
              "      <td>False</td>\n",
              "      <td>2</td>\n",
              "      <td>2067571297505163692</td>\n",
              "      <td>7503295287825894557</td>\n",
              "    </tr>\n",
              "    <tr>\n",
              "      <th>6</th>\n",
              "      <td>1975-08-27</td>\n",
              "      <td>Thailand</td>\n",
              "      <td>Singapore</td>\n",
              "      <td>3</td>\n",
              "      <td>0</td>\n",
              "      <td>AFC Championship</td>\n",
              "      <td>Hong Kong</td>\n",
              "      <td>Hong Kong</td>\n",
              "      <td>True</td>\n",
              "      <td>1</td>\n",
              "      <td>-650581084020804468</td>\n",
              "      <td>-62408315286070254</td>\n",
              "    </tr>\n",
              "    <tr>\n",
              "      <th>7</th>\n",
              "      <td>1975-08-27</td>\n",
              "      <td>New Zealand</td>\n",
              "      <td>Malaysia</td>\n",
              "      <td>3</td>\n",
              "      <td>0</td>\n",
              "      <td>AFC Championship</td>\n",
              "      <td>Hong Kong</td>\n",
              "      <td>Hong Kong</td>\n",
              "      <td>True</td>\n",
              "      <td>1</td>\n",
              "      <td>7503295287825894557</td>\n",
              "      <td>-1693305332219656756</td>\n",
              "    </tr>\n",
              "    <tr>\n",
              "      <th>8</th>\n",
              "      <td>1975-08-29</td>\n",
              "      <td>Australia</td>\n",
              "      <td>Singapore</td>\n",
              "      <td>3</td>\n",
              "      <td>0</td>\n",
              "      <td>AFC Championship</td>\n",
              "      <td>Hong Kong</td>\n",
              "      <td>Hong Kong</td>\n",
              "      <td>True</td>\n",
              "      <td>1</td>\n",
              "      <td>5356949618074078544</td>\n",
              "      <td>-62408315286070254</td>\n",
              "    </tr>\n",
              "    <tr>\n",
              "      <th>9</th>\n",
              "      <td>1975-08-29</td>\n",
              "      <td>Hong Kong</td>\n",
              "      <td>Malaysia</td>\n",
              "      <td>0</td>\n",
              "      <td>2</td>\n",
              "      <td>AFC Championship</td>\n",
              "      <td>Hong Kong</td>\n",
              "      <td>Hong Kong</td>\n",
              "      <td>False</td>\n",
              "      <td>2</td>\n",
              "      <td>2067571297505163692</td>\n",
              "      <td>-1693305332219656756</td>\n",
              "    </tr>\n",
              "  </tbody>\n",
              "</table>\n",
              "</div>\n",
              "      <button class=\"colab-df-convert\" onclick=\"convertToInteractive('df-69d8064e-210c-4db6-bf5b-272111697e35')\"\n",
              "              title=\"Convert this dataframe to an interactive table.\"\n",
              "              style=\"display:none;\">\n",
              "        \n",
              "  <svg xmlns=\"http://www.w3.org/2000/svg\" height=\"24px\"viewBox=\"0 0 24 24\"\n",
              "       width=\"24px\">\n",
              "    <path d=\"M0 0h24v24H0V0z\" fill=\"none\"/>\n",
              "    <path d=\"M18.56 5.44l.94 2.06.94-2.06 2.06-.94-2.06-.94-.94-2.06-.94 2.06-2.06.94zm-11 1L8.5 8.5l.94-2.06 2.06-.94-2.06-.94L8.5 2.5l-.94 2.06-2.06.94zm10 10l.94 2.06.94-2.06 2.06-.94-2.06-.94-.94-2.06-.94 2.06-2.06.94z\"/><path d=\"M17.41 7.96l-1.37-1.37c-.4-.4-.92-.59-1.43-.59-.52 0-1.04.2-1.43.59L10.3 9.45l-7.72 7.72c-.78.78-.78 2.05 0 2.83L4 21.41c.39.39.9.59 1.41.59.51 0 1.02-.2 1.41-.59l7.78-7.78 2.81-2.81c.8-.78.8-2.07 0-2.86zM5.41 20L4 18.59l7.72-7.72 1.47 1.35L5.41 20z\"/>\n",
              "  </svg>\n",
              "      </button>\n",
              "      \n",
              "  <style>\n",
              "    .colab-df-container {\n",
              "      display:flex;\n",
              "      flex-wrap:wrap;\n",
              "      gap: 12px;\n",
              "    }\n",
              "\n",
              "    .colab-df-convert {\n",
              "      background-color: #E8F0FE;\n",
              "      border: none;\n",
              "      border-radius: 50%;\n",
              "      cursor: pointer;\n",
              "      display: none;\n",
              "      fill: #1967D2;\n",
              "      height: 32px;\n",
              "      padding: 0 0 0 0;\n",
              "      width: 32px;\n",
              "    }\n",
              "\n",
              "    .colab-df-convert:hover {\n",
              "      background-color: #E2EBFA;\n",
              "      box-shadow: 0px 1px 2px rgba(60, 64, 67, 0.3), 0px 1px 3px 1px rgba(60, 64, 67, 0.15);\n",
              "      fill: #174EA6;\n",
              "    }\n",
              "\n",
              "    [theme=dark] .colab-df-convert {\n",
              "      background-color: #3B4455;\n",
              "      fill: #D2E3FC;\n",
              "    }\n",
              "\n",
              "    [theme=dark] .colab-df-convert:hover {\n",
              "      background-color: #434B5C;\n",
              "      box-shadow: 0px 1px 3px 1px rgba(0, 0, 0, 0.15);\n",
              "      filter: drop-shadow(0px 1px 2px rgba(0, 0, 0, 0.3));\n",
              "      fill: #FFFFFF;\n",
              "    }\n",
              "  </style>\n",
              "\n",
              "      <script>\n",
              "        const buttonEl =\n",
              "          document.querySelector('#df-69d8064e-210c-4db6-bf5b-272111697e35 button.colab-df-convert');\n",
              "        buttonEl.style.display =\n",
              "          google.colab.kernel.accessAllowed ? 'block' : 'none';\n",
              "\n",
              "        async function convertToInteractive(key) {\n",
              "          const element = document.querySelector('#df-69d8064e-210c-4db6-bf5b-272111697e35');\n",
              "          const dataTable =\n",
              "            await google.colab.kernel.invokeFunction('convertToInteractive',\n",
              "                                                     [key], {});\n",
              "          if (!dataTable) return;\n",
              "\n",
              "          const docLinkHtml = 'Like what you see? Visit the ' +\n",
              "            '<a target=\"_blank\" href=https://colab.research.google.com/notebooks/data_table.ipynb>data table notebook</a>'\n",
              "            + ' to learn more about interactive tables.';\n",
              "          element.innerHTML = '';\n",
              "          dataTable['output_type'] = 'display_data';\n",
              "          await google.colab.output.renderOutput(dataTable, element);\n",
              "          const docLink = document.createElement('div');\n",
              "          docLink.innerHTML = docLinkHtml;\n",
              "          element.appendChild(docLink);\n",
              "        }\n",
              "      </script>\n",
              "    </div>\n",
              "  </div>\n",
              "  "
            ],
            "text/plain": [
              "         date    home_team  ...         id_home_team         id_away_team\n",
              "0  1969-11-01        Italy  ... -3779540873683691148 -3639685518696651049\n",
              "1  1969-11-01      Denmark  ...  8762829069385907453     6659840675732466\n",
              "2  1969-11-02      England  ...     6659840675732466 -3639685518696651049\n",
              "3  1969-11-02        Italy  ... -3779540873683691148  8762829069385907453\n",
              "4  1975-08-25     Thailand  ...  -650581084020804468  5356949618074078544\n",
              "5  1975-08-25    Hong Kong  ...  2067571297505163692  7503295287825894557\n",
              "6  1975-08-27     Thailand  ...  -650581084020804468   -62408315286070254\n",
              "7  1975-08-27  New Zealand  ...  7503295287825894557 -1693305332219656756\n",
              "8  1975-08-29    Australia  ...  5356949618074078544   -62408315286070254\n",
              "9  1975-08-29    Hong Kong  ...  2067571297505163692 -1693305332219656756\n",
              "\n",
              "[10 rows x 12 columns]"
            ]
          },
          "metadata": {},
          "execution_count": 66
        }
      ]
    },
    {
      "cell_type": "code",
      "source": [
        "#data_result_match['id_home_team'] = hash(data_result_match['home_team'])\n",
        "#data_result_match['id_away_team'] = hash(data_result_match['away_team'])"
      ],
      "metadata": {
        "id": "dhBldLA1HS5B"
      },
      "execution_count": 67,
      "outputs": []
    },
    {
      "cell_type": "markdown",
      "source": [
        "#"
      ],
      "metadata": {
        "id": "UYfOVLn7Oyx2"
      }
    },
    {
      "cell_type": "code",
      "source": [
        "\"\"\" Ici nous choisissons d'utiliser 75% du datatset pour entraîner le modèle et 25% pour effectuer nos tests.\"\"\"\n",
        "# x_train, x_test, y_train, y_test = train_test_split(data_result_match.loc[:, data_result_match.columns.difference(['date', 'Win', 'home_team', 'away_team', 'city', 'country', 'tournament', 'away_score', 'home_score'])], data_result_match['Win'], test_size = 0.25, random_state = 0)\n",
        "x_train, x_test, y_train, y_test = train_test_split(data_result_match[['neutral', 'id_home_team', 'id_away_team']], data_result_match['Win'], test_size = 0.25, random_state = 0)\n",
        "\n"
      ],
      "metadata": {
        "id": "3mi6NGzNNkXw"
      },
      "execution_count": 68,
      "outputs": []
    },
    {
      "cell_type": "code",
      "source": [
        "\"\"\" Nous entrainons le modèle en utilisant la méthode de classification avecc l'arbre de décision\"\"\"\n",
        "\n",
        "arbre_decision = DecisionTreeClassifier(random_state = 0, max_depth = 20)\n",
        "clf = arbre_decision.fit(x_train, y_train)\n",
        "\n",
        "\n"
      ],
      "metadata": {
        "id": "KT3LOaS2O4jc"
      },
      "execution_count": 69,
      "outputs": []
    },
    {
      "cell_type": "code",
      "source": [
        "\"\"\" Nous effectuons notre prédiction sur notre jeu de test en utilisant le modèle entrainé avec la méthode de classification avecc l'arbre de décision \"\"\"\n",
        "sPredict = clf.predict(x_test)\n",
        "\n",
        "score = accuracy_score(y_test, sPredict)\n",
        "\n",
        "print(score)\n",
        "print(metrics.confusion_matrix(y_test, sPredict))\n",
        "\n",
        "print(y_test.head(10))\n",
        "# for x in sPredict :\n",
        "  # print(x)"
      ],
      "metadata": {
        "colab": {
          "base_uri": "https://localhost:8080/"
        },
        "id": "Dq6aPWxtLDBl",
        "outputId": "42c68bef-643b-4a8d-fdb8-bebabcc097fa"
      },
      "execution_count": 70,
      "outputs": [
        {
          "output_type": "stream",
          "name": "stdout",
          "text": [
            "0.542830540037244\n",
            "[[ 26  87  37]\n",
            " [ 71 402 101]\n",
            " [ 71 124 155]]\n",
            "545     2\n",
            "2232    2\n",
            "3222    1\n",
            "2194    1\n",
            "2971    1\n",
            "1746    2\n",
            "3438    0\n",
            "1811    1\n",
            "220     1\n",
            "3932    2\n",
            "Name: Win, dtype: int64\n"
          ]
        }
      ]
    },
    {
      "cell_type": "code",
      "source": [
        "\"\"\" Nous entrainons le modèle en utilisant la méthode de classification avec le plus proche voision \"\"\"\n",
        "\n",
        "KNN = KNeighborsClassifier()\n",
        "clf = KNN.fit(x_train, y_train)\n"
      ],
      "metadata": {
        "id": "WUyWNDi4HUSr"
      },
      "execution_count": 71,
      "outputs": []
    },
    {
      "cell_type": "code",
      "source": [
        "\"\"\" Nous effectuons notre prédiction sur notre jeu de test en utilisant le modèle entrainé avec la méthode de classification avec le plus proche de voisin \"\"\"\n",
        "\n",
        "sPredict = clf.predict(x_test)\n",
        "\n",
        "score = accuracy_score(y_test, sPredict);\n",
        "print(score)\n",
        "\n",
        "print(metrics.confusion_matrix(y_test, sPredict))\n"
      ],
      "metadata": {
        "id": "yIolk0XQNGz_",
        "colab": {
          "base_uri": "https://localhost:8080/"
        },
        "outputId": "df49873f-6106-41f4-b796-6b4c846db485"
      },
      "execution_count": 72,
      "outputs": [
        {
          "output_type": "stream",
          "name": "stdout",
          "text": [
            "0.5279329608938548\n",
            "[[ 12 103  35]\n",
            " [ 36 420 118]\n",
            " [ 34 181 135]]\n"
          ]
        }
      ]
    },
    {
      "cell_type": "code",
      "source": [
        "\n",
        "\"\"\" Nous entrainons le modèle en utilisant la méthode de classification avec SVM \"\"\"\n",
        "clf = svm.SVC(gamma = 0.001)\n",
        "clf.fit(x_train, y_train)\n"
      ],
      "metadata": {
        "colab": {
          "base_uri": "https://localhost:8080/"
        },
        "id": "LX0Tf8DRNBxx",
        "outputId": "7d0feb41-d558-4305-b1f6-ba43540f153a"
      },
      "execution_count": 73,
      "outputs": [
        {
          "output_type": "execute_result",
          "data": {
            "text/plain": [
              "SVC(gamma=0.001)"
            ]
          },
          "metadata": {},
          "execution_count": 73
        }
      ]
    },
    {
      "cell_type": "code",
      "source": [
        "\"\"\" Nous effectuons notre prédiction sur notre jeu de test en utilisant le modèle entrainé avec la méthode de classification avec SVM \"\"\"\n",
        "\n",
        "sPredict = clf.predict(x_test)\n",
        "\n",
        "score = accuracy_score(y_test, sPredict);\n",
        "print(score)\n",
        "print(type(x_test))"
      ],
      "metadata": {
        "id": "q1tzJvhNWSAc",
        "colab": {
          "base_uri": "https://localhost:8080/"
        },
        "outputId": "07dc4b0a-9547-45c1-c49b-041288d51370"
      },
      "execution_count": 74,
      "outputs": [
        {
          "output_type": "stream",
          "name": "stdout",
          "text": [
            "0.5921787709497207\n",
            "<class 'pandas.core.frame.DataFrame'>\n"
          ]
        }
      ]
    },
    {
      "cell_type": "code",
      "source": [
        ""
      ],
      "metadata": {
        "colab": {
          "base_uri": "https://localhost:8080/",
          "height": 132
        },
        "id": "SbjcQiWFSCPq",
        "outputId": "c68d03e4-3868-4ae2-9cf1-4fc4d02ab16e"
      },
      "execution_count": 75,
      "outputs": [
        {
          "output_type": "error",
          "ename": "SyntaxError",
          "evalue": "ignored",
          "traceback": [
            "\u001b[0;36m  File \u001b[0;32m\"<ipython-input-75-dfcc843afdff>\"\u001b[0;36m, line \u001b[0;32m1\u001b[0m\n\u001b[0;31m    plt.plot([1, 2, 3],\u0003 [1, 2, 3])\u001b[0m\n\u001b[0m                       ^\u001b[0m\n\u001b[0;31mSyntaxError\u001b[0m\u001b[0;31m:\u001b[0m invalid syntax\n"
          ]
        }
      ]
    },
    {
      "cell_type": "markdown",
      "source": [
        ""
      ],
      "metadata": {
        "id": "u2jht5_ANAWZ"
      }
    },
    {
      "cell_type": "code",
      "source": [
        ""
      ],
      "metadata": {
        "id": "ZEwtPvOoZo29"
      },
      "execution_count": null,
      "outputs": []
    }
  ]
}