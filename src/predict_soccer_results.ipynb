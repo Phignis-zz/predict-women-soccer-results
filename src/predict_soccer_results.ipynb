{
  "nbformat": 4,
  "nbformat_minor": 0,
  "metadata": {
    "colab": {
      "name": "predict_soccer_results.ipynb",
      "provenance": [],
      "collapsed_sections": []
    },
    "kernelspec": {
      "name": "python3",
      "display_name": "Python 3"
    },
    "language_info": {
      "name": "python"
    }
  },
  "cells": [
    {
      "cell_type": "markdown",
      "source": [
        "# Prédiction d'un résultat"
      ],
      "metadata": {
        "id": "HfBPNy61ECXB"
      }
    },
    {
      "cell_type": "code",
      "source": [
        "import numpy as np\n",
        "import pandas as pd\n",
        "import matplotlib.pyplot as plt\n",
        "import sklearn as sk\n",
        "from sklearn.model_selection import train_test_split\n",
        "from sklearn.tree import DecisionTreeClassifier\n",
        "from sklearn.metrics import accuracy_score\n",
        "from sklearn.neighbors import KNeighborsClassifier\n",
        "from sklearn import svm\n",
        "from sklearn import metrics"
      ],
      "metadata": {
        "id": "58pIvlWm7_mZ"
      },
      "execution_count": 117,
      "outputs": []
    },
    {
      "cell_type": "markdown",
      "source": [
        "### Importation du csv. Par défaut, le fichier que l'on récupère provient de github, raw indique que ce ne sont que les données brutes, sans les balises html.\n",
        "\n",
        "__Si jamais vous ne possédez pas internet, commentez le premier read_csv, et décommentez le second, en supposant que vous avez cloné le projet git en local__"
      ],
      "metadata": {
        "id": "xMrhs420Hoja"
      }
    },
    {
      "cell_type": "code",
      "source": [
        "data_result_match = pd.read_csv(\"https://raw.githubusercontent.com/Phignis/predict-women-soccer-results/main/src/ressources/data/woman_international_cup_results.csv\", sep=\",\")\n",
        "# data_result_match = pd.read_csv(\"ressources/data/woman_international_cup_results.csv\", sep=\",\")"
      ],
      "metadata": {
        "id": "p2wEfR_s-xx5"
      },
      "execution_count": 118,
      "outputs": []
    },
    {
      "cell_type": "code",
      "source": [
        "print(data_result_match.shape)"
      ],
      "metadata": {
        "colab": {
          "base_uri": "https://localhost:8080/"
        },
        "id": "hdHreKKC_-XH",
        "outputId": "e555af10-2007-45fd-b937-c1c730442f3b"
      },
      "execution_count": 119,
      "outputs": [
        {
          "output_type": "stream",
          "name": "stdout",
          "text": [
            "(4296, 9)\n"
          ]
        }
      ]
    },
    {
      "cell_type": "code",
      "source": [
        "# print(data_result_match)\n",
        "data_result_match.head(5)"
      ],
      "metadata": {
        "colab": {
          "base_uri": "https://localhost:8080/",
          "height": 206
        },
        "id": "8xC24jpDCLbB",
        "outputId": "4f7527d9-b903-4173-cb9e-c4d37ba334bc"
      },
      "execution_count": 120,
      "outputs": [
        {
          "output_type": "execute_result",
          "data": {
            "text/html": [
              "\n",
              "  <div id=\"df-3b7638ed-5181-402c-8a75-43ff9e225543\">\n",
              "    <div class=\"colab-df-container\">\n",
              "      <div>\n",
              "<style scoped>\n",
              "    .dataframe tbody tr th:only-of-type {\n",
              "        vertical-align: middle;\n",
              "    }\n",
              "\n",
              "    .dataframe tbody tr th {\n",
              "        vertical-align: top;\n",
              "    }\n",
              "\n",
              "    .dataframe thead th {\n",
              "        text-align: right;\n",
              "    }\n",
              "</style>\n",
              "<table border=\"1\" class=\"dataframe\">\n",
              "  <thead>\n",
              "    <tr style=\"text-align: right;\">\n",
              "      <th></th>\n",
              "      <th>date</th>\n",
              "      <th>home_team</th>\n",
              "      <th>away_team</th>\n",
              "      <th>home_score</th>\n",
              "      <th>away_score</th>\n",
              "      <th>tournament</th>\n",
              "      <th>city</th>\n",
              "      <th>country</th>\n",
              "      <th>neutral</th>\n",
              "    </tr>\n",
              "  </thead>\n",
              "  <tbody>\n",
              "    <tr>\n",
              "      <th>0</th>\n",
              "      <td>1969-11-01</td>\n",
              "      <td>Italy</td>\n",
              "      <td>France</td>\n",
              "      <td>1</td>\n",
              "      <td>0</td>\n",
              "      <td>Euro</td>\n",
              "      <td>Novara</td>\n",
              "      <td>Italy</td>\n",
              "      <td>False</td>\n",
              "    </tr>\n",
              "    <tr>\n",
              "      <th>1</th>\n",
              "      <td>1969-11-01</td>\n",
              "      <td>Denmark</td>\n",
              "      <td>England</td>\n",
              "      <td>4</td>\n",
              "      <td>3</td>\n",
              "      <td>Euro</td>\n",
              "      <td>Aosta</td>\n",
              "      <td>Italy</td>\n",
              "      <td>True</td>\n",
              "    </tr>\n",
              "    <tr>\n",
              "      <th>2</th>\n",
              "      <td>1969-11-02</td>\n",
              "      <td>England</td>\n",
              "      <td>France</td>\n",
              "      <td>2</td>\n",
              "      <td>0</td>\n",
              "      <td>Euro</td>\n",
              "      <td>Turin</td>\n",
              "      <td>Italy</td>\n",
              "      <td>True</td>\n",
              "    </tr>\n",
              "    <tr>\n",
              "      <th>3</th>\n",
              "      <td>1969-11-02</td>\n",
              "      <td>Italy</td>\n",
              "      <td>Denmark</td>\n",
              "      <td>3</td>\n",
              "      <td>1</td>\n",
              "      <td>Euro</td>\n",
              "      <td>Turin</td>\n",
              "      <td>Italy</td>\n",
              "      <td>False</td>\n",
              "    </tr>\n",
              "    <tr>\n",
              "      <th>4</th>\n",
              "      <td>1975-08-25</td>\n",
              "      <td>Thailand</td>\n",
              "      <td>Australia</td>\n",
              "      <td>3</td>\n",
              "      <td>2</td>\n",
              "      <td>AFC Championship</td>\n",
              "      <td>Hong Kong</td>\n",
              "      <td>Hong Kong</td>\n",
              "      <td>True</td>\n",
              "    </tr>\n",
              "  </tbody>\n",
              "</table>\n",
              "</div>\n",
              "      <button class=\"colab-df-convert\" onclick=\"convertToInteractive('df-3b7638ed-5181-402c-8a75-43ff9e225543')\"\n",
              "              title=\"Convert this dataframe to an interactive table.\"\n",
              "              style=\"display:none;\">\n",
              "        \n",
              "  <svg xmlns=\"http://www.w3.org/2000/svg\" height=\"24px\"viewBox=\"0 0 24 24\"\n",
              "       width=\"24px\">\n",
              "    <path d=\"M0 0h24v24H0V0z\" fill=\"none\"/>\n",
              "    <path d=\"M18.56 5.44l.94 2.06.94-2.06 2.06-.94-2.06-.94-.94-2.06-.94 2.06-2.06.94zm-11 1L8.5 8.5l.94-2.06 2.06-.94-2.06-.94L8.5 2.5l-.94 2.06-2.06.94zm10 10l.94 2.06.94-2.06 2.06-.94-2.06-.94-.94-2.06-.94 2.06-2.06.94z\"/><path d=\"M17.41 7.96l-1.37-1.37c-.4-.4-.92-.59-1.43-.59-.52 0-1.04.2-1.43.59L10.3 9.45l-7.72 7.72c-.78.78-.78 2.05 0 2.83L4 21.41c.39.39.9.59 1.41.59.51 0 1.02-.2 1.41-.59l7.78-7.78 2.81-2.81c.8-.78.8-2.07 0-2.86zM5.41 20L4 18.59l7.72-7.72 1.47 1.35L5.41 20z\"/>\n",
              "  </svg>\n",
              "      </button>\n",
              "      \n",
              "  <style>\n",
              "    .colab-df-container {\n",
              "      display:flex;\n",
              "      flex-wrap:wrap;\n",
              "      gap: 12px;\n",
              "    }\n",
              "\n",
              "    .colab-df-convert {\n",
              "      background-color: #E8F0FE;\n",
              "      border: none;\n",
              "      border-radius: 50%;\n",
              "      cursor: pointer;\n",
              "      display: none;\n",
              "      fill: #1967D2;\n",
              "      height: 32px;\n",
              "      padding: 0 0 0 0;\n",
              "      width: 32px;\n",
              "    }\n",
              "\n",
              "    .colab-df-convert:hover {\n",
              "      background-color: #E2EBFA;\n",
              "      box-shadow: 0px 1px 2px rgba(60, 64, 67, 0.3), 0px 1px 3px 1px rgba(60, 64, 67, 0.15);\n",
              "      fill: #174EA6;\n",
              "    }\n",
              "\n",
              "    [theme=dark] .colab-df-convert {\n",
              "      background-color: #3B4455;\n",
              "      fill: #D2E3FC;\n",
              "    }\n",
              "\n",
              "    [theme=dark] .colab-df-convert:hover {\n",
              "      background-color: #434B5C;\n",
              "      box-shadow: 0px 1px 3px 1px rgba(0, 0, 0, 0.15);\n",
              "      filter: drop-shadow(0px 1px 2px rgba(0, 0, 0, 0.3));\n",
              "      fill: #FFFFFF;\n",
              "    }\n",
              "  </style>\n",
              "\n",
              "      <script>\n",
              "        const buttonEl =\n",
              "          document.querySelector('#df-3b7638ed-5181-402c-8a75-43ff9e225543 button.colab-df-convert');\n",
              "        buttonEl.style.display =\n",
              "          google.colab.kernel.accessAllowed ? 'block' : 'none';\n",
              "\n",
              "        async function convertToInteractive(key) {\n",
              "          const element = document.querySelector('#df-3b7638ed-5181-402c-8a75-43ff9e225543');\n",
              "          const dataTable =\n",
              "            await google.colab.kernel.invokeFunction('convertToInteractive',\n",
              "                                                     [key], {});\n",
              "          if (!dataTable) return;\n",
              "\n",
              "          const docLinkHtml = 'Like what you see? Visit the ' +\n",
              "            '<a target=\"_blank\" href=https://colab.research.google.com/notebooks/data_table.ipynb>data table notebook</a>'\n",
              "            + ' to learn more about interactive tables.';\n",
              "          element.innerHTML = '';\n",
              "          dataTable['output_type'] = 'display_data';\n",
              "          await google.colab.output.renderOutput(dataTable, element);\n",
              "          const docLink = document.createElement('div');\n",
              "          docLink.innerHTML = docLinkHtml;\n",
              "          element.appendChild(docLink);\n",
              "        }\n",
              "      </script>\n",
              "    </div>\n",
              "  </div>\n",
              "  "
            ],
            "text/plain": [
              "         date home_team  away_team  ...       city    country neutral\n",
              "0  1969-11-01     Italy     France  ...     Novara      Italy   False\n",
              "1  1969-11-01   Denmark    England  ...      Aosta      Italy    True\n",
              "2  1969-11-02   England     France  ...      Turin      Italy    True\n",
              "3  1969-11-02     Italy    Denmark  ...      Turin      Italy   False\n",
              "4  1975-08-25  Thailand  Australia  ...  Hong Kong  Hong Kong    True\n",
              "\n",
              "[5 rows x 9 columns]"
            ]
          },
          "metadata": {},
          "execution_count": 120
        }
      ]
    },
    {
      "cell_type": "markdown",
      "source": [
        "> A présent, mettons en forme les données, afin qu'elles soient exploitables par skLearn. Le but est de transformer toutes données ayant un intêrêt en colonne d'entier. Nous allons donc modifier la colonne home_team, away_team, tournament et le couple home_team/away_team/neutral"
      ],
      "metadata": {
        "id": "vEHfZk-KeFax"
      }
    },
    {
      "cell_type": "code",
      "source": [
        "\"\"\" On ajoute d'abord une colonne Win pour savoir quelle équipe a gagné. \n",
        " 0 égalité\n",
        " 1 victoire home\n",
        " 2 victoire away \"\"\"\n",
        "\n",
        "for index in data_result_match.index :\n",
        "    if(data_result_match.loc[index, 'home_score'] == data_result_match.loc[index, 'away_score']) :\n",
        "      data_result_match.loc[index, 'Win'] = 0\n",
        "    elif(data_result_match.loc[index, 'home_score'] > data_result_match.loc[index, 'away_score']) :\n",
        "      data_result_match.loc[index, 'Win'] = 1\n",
        "    else :\n",
        "      data_result_match.loc[index, 'Win'] = 2\n",
        "\n",
        "data_result_match['Win'] = data_result_match['Win'].astype(int)\n"
      ],
      "metadata": {
        "id": "oTs1KbqeCuFv"
      },
      "execution_count": 121,
      "outputs": []
    },
    {
      "cell_type": "code",
      "source": [
        "\"\"\" On ajoute une colonne id_away_team et id_home_team pour connaitre les équipes ayant joué, sous forme numérique pour traitement\"\"\"\n",
        "listePays = sorted(list(set(np.concatenate([data_result_match['home_team'], data_result_match['away_team']]))))\n",
        "\"\"\"\n",
        "listePays contient ici un set de toutes les home_teams et away_teams, de manière unique. On le stocke dans un set, pour garentir l'unicité de chaque équipe dans tout le match\n",
        "\"\"\"\n",
        "\n",
        "for index in data_result_match.index :\n",
        "  data_result_match.loc[index, 'id_home_team']= listePays.index(data_result_match.loc[index, 'home_team'])\n",
        "  data_result_match.loc[index, 'id_away_team']= listePays.index(data_result_match.loc[index, 'away_team'])\n",
        "\n",
        "data_result_match['id_home_team'] = data_result_match['id_home_team'].astype(int) # pour avoir des entiers, par défaut c'étaient des floats\n",
        "data_result_match['id_away_team'] = data_result_match['id_away_team'].astype(int) # pour avoir des entiers, par défaut c'étaient des floats"
      ],
      "metadata": {
        "id": "rBI0ujJ7SKgX"
      },
      "execution_count": 122,
      "outputs": []
    },
    {
      "cell_type": "code",
      "source": [
        "\"\"\"\n",
        "Actuellement, les prédictions prennent entre autres id_home_team, id_away_team et neutral. Pourtant, en terme de prédiction, un France Italy sur terrain neutre et l'équivalent\n",
        "d'un Italy France sur terrain neutre. Pourtant actuellement, nos modèles ne peuvent l'effectuer. Pour éviter cela, le but est de générer un id unique, en fonction de la situation.\n",
        "Les deux situations citées précédemment possèderaient donc le même id, tandis que les mêmes équipes sur terrain non neutre deviendrait un id différent.\n",
        "L'implémentation choisie est d'effectuer un dictionnaire, avec pour clé le tuple (id_team_1, id_team_2, terrain_neutre), et en value son id Unique, auto-incrémenté\n",
        "\"\"\"\n",
        "\n",
        "# on commence par récupéré toute la liste des équipes de notre dataset, pour pouvoir générer tout les tuples possibles, on l'a déjà calculé, c'est listePays\n",
        "listeTuple = [0] * pow(len(listePays), 2)\n",
        "i = 0\n",
        "for tuple1 in listePays:\n",
        "  for tuple2 in listePays:\n",
        "    listeTuple[i] = (tuple1, tuple2)\n",
        "    i += 1\n",
        "# on a généré tout les tuples possibles, y compris les (i, i), les (i, j) et (j, i). On ne veut pas les (i, i), on va directement les supprimer\n",
        "listeTuple = [tuple for tuple in listeTuple if tuple[0] != tuple[1]]\n",
        "\n",
        "etat_match_id = dict()\n",
        "i = 0\n",
        "# il reste a les rentrer dans le dictionnaire\n",
        "for tuple in listeTuple:\n",
        "  etat_match_id[tuple + (True, )] = i\n",
        "  i += 1\n",
        "  etat_match_id[tuple + (False, )] = i\n",
        "  i += 1\n",
        "\n",
        "# il reste un soucis, on veut que (i, j, true) et (j, i, true) ait le même id, ce qui n'est pas le cas actuellement. Le but est donc de tout bien remettre en place\n",
        "for current_tuple in etat_match_id:\n",
        "  if(current_tuple[2] is True):\n",
        "    # alors pour (i, j, true), il existe forcément (j, i, true)\n",
        "    etat_match_id[(current_tuple[1], current_tuple[0], current_tuple[2])] = etat_match_id[current_tuple]\n",
        "\n",
        "\n",
        "# notre dictionnaire est prêt, reste a générer la nouvelle colonne, nommé etat_match\n",
        "for index in data_result_match.index :\n",
        "  data_result_match.loc[index, 'etat_match'] = etat_match_id[(data_result_match.loc[index, 'home_team'], data_result_match.loc[index, 'away_team'], data_result_match.loc[index, 'neutral'])]\n",
        "data_result_match['etat_match'] = data_result_match['etat_match'].astype(int)"
      ],
      "metadata": {
        "id": "7djGZbYViH4Q"
      },
      "execution_count": 123,
      "outputs": []
    },
    {
      "cell_type": "code",
      "source": [
        "\"\"\" On ajoute une colonne id_tournois pour connaitre les tournois, sous forme numérique pour traitement\"\"\"\n",
        "\n",
        "liste_tournois = sorted(list(pd.unique(data_result_match['tournament'])))\n",
        "for index in data_result_match.index :\n",
        "  data_result_match.loc[index, 'id_tournois'] = liste_tournois.index(data_result_match.loc[index, 'tournament'])\n",
        "data_result_match['id_tournois'] = data_result_match['id_tournois'].astype(int)"
      ],
      "metadata": {
        "id": "TBp30uZAcsQ3"
      },
      "execution_count": 124,
      "outputs": []
    },
    {
      "cell_type": "code",
      "source": [
        "\"\"\"On affiche la DataFrame pour savoir à quoi elle ressemble\"\"\"\n",
        "\n",
        "data_result_match.head(5)\n"
      ],
      "metadata": {
        "colab": {
          "base_uri": "https://localhost:8080/",
          "height": 206
        },
        "id": "gOAOhDeFfrHi",
        "outputId": "2b7419a6-a7b2-4491-d764-8a4c1894fe9e"
      },
      "execution_count": 125,
      "outputs": [
        {
          "output_type": "execute_result",
          "data": {
            "text/html": [
              "\n",
              "  <div id=\"df-7c90e8f9-fece-4fb8-9b82-4860925e9c1b\">\n",
              "    <div class=\"colab-df-container\">\n",
              "      <div>\n",
              "<style scoped>\n",
              "    .dataframe tbody tr th:only-of-type {\n",
              "        vertical-align: middle;\n",
              "    }\n",
              "\n",
              "    .dataframe tbody tr th {\n",
              "        vertical-align: top;\n",
              "    }\n",
              "\n",
              "    .dataframe thead th {\n",
              "        text-align: right;\n",
              "    }\n",
              "</style>\n",
              "<table border=\"1\" class=\"dataframe\">\n",
              "  <thead>\n",
              "    <tr style=\"text-align: right;\">\n",
              "      <th></th>\n",
              "      <th>date</th>\n",
              "      <th>home_team</th>\n",
              "      <th>away_team</th>\n",
              "      <th>home_score</th>\n",
              "      <th>away_score</th>\n",
              "      <th>tournament</th>\n",
              "      <th>city</th>\n",
              "      <th>country</th>\n",
              "      <th>neutral</th>\n",
              "      <th>Win</th>\n",
              "      <th>id_home_team</th>\n",
              "      <th>id_away_team</th>\n",
              "      <th>etat_match</th>\n",
              "      <th>id_tournois</th>\n",
              "    </tr>\n",
              "  </thead>\n",
              "  <tbody>\n",
              "    <tr>\n",
              "      <th>0</th>\n",
              "      <td>1969-11-01</td>\n",
              "      <td>Italy</td>\n",
              "      <td>France</td>\n",
              "      <td>1</td>\n",
              "      <td>0</td>\n",
              "      <td>Euro</td>\n",
              "      <td>Novara</td>\n",
              "      <td>Italy</td>\n",
              "      <td>False</td>\n",
              "      <td>1</td>\n",
              "      <td>90</td>\n",
              "      <td>64</td>\n",
              "      <td>34509</td>\n",
              "      <td>13</td>\n",
              "    </tr>\n",
              "    <tr>\n",
              "      <th>1</th>\n",
              "      <td>1969-11-01</td>\n",
              "      <td>Denmark</td>\n",
              "      <td>England</td>\n",
              "      <td>4</td>\n",
              "      <td>3</td>\n",
              "      <td>Euro</td>\n",
              "      <td>Aosta</td>\n",
              "      <td>Italy</td>\n",
              "      <td>True</td>\n",
              "      <td>1</td>\n",
              "      <td>47</td>\n",
              "      <td>54</td>\n",
              "      <td>18060</td>\n",
              "      <td>13</td>\n",
              "    </tr>\n",
              "    <tr>\n",
              "      <th>2</th>\n",
              "      <td>1969-11-02</td>\n",
              "      <td>England</td>\n",
              "      <td>France</td>\n",
              "      <td>2</td>\n",
              "      <td>0</td>\n",
              "      <td>Euro</td>\n",
              "      <td>Turin</td>\n",
              "      <td>Italy</td>\n",
              "      <td>True</td>\n",
              "      <td>1</td>\n",
              "      <td>54</td>\n",
              "      <td>64</td>\n",
              "      <td>20754</td>\n",
              "      <td>13</td>\n",
              "    </tr>\n",
              "    <tr>\n",
              "      <th>3</th>\n",
              "      <td>1969-11-02</td>\n",
              "      <td>Italy</td>\n",
              "      <td>Denmark</td>\n",
              "      <td>3</td>\n",
              "      <td>1</td>\n",
              "      <td>Euro</td>\n",
              "      <td>Turin</td>\n",
              "      <td>Italy</td>\n",
              "      <td>False</td>\n",
              "      <td>1</td>\n",
              "      <td>90</td>\n",
              "      <td>47</td>\n",
              "      <td>34475</td>\n",
              "      <td>13</td>\n",
              "    </tr>\n",
              "    <tr>\n",
              "      <th>4</th>\n",
              "      <td>1975-08-25</td>\n",
              "      <td>Thailand</td>\n",
              "      <td>Australia</td>\n",
              "      <td>3</td>\n",
              "      <td>2</td>\n",
              "      <td>AFC Championship</td>\n",
              "      <td>Hong Kong</td>\n",
              "      <td>Hong Kong</td>\n",
              "      <td>True</td>\n",
              "      <td>1</td>\n",
              "      <td>170</td>\n",
              "      <td>10</td>\n",
              "      <td>4158</td>\n",
              "      <td>2</td>\n",
              "    </tr>\n",
              "  </tbody>\n",
              "</table>\n",
              "</div>\n",
              "      <button class=\"colab-df-convert\" onclick=\"convertToInteractive('df-7c90e8f9-fece-4fb8-9b82-4860925e9c1b')\"\n",
              "              title=\"Convert this dataframe to an interactive table.\"\n",
              "              style=\"display:none;\">\n",
              "        \n",
              "  <svg xmlns=\"http://www.w3.org/2000/svg\" height=\"24px\"viewBox=\"0 0 24 24\"\n",
              "       width=\"24px\">\n",
              "    <path d=\"M0 0h24v24H0V0z\" fill=\"none\"/>\n",
              "    <path d=\"M18.56 5.44l.94 2.06.94-2.06 2.06-.94-2.06-.94-.94-2.06-.94 2.06-2.06.94zm-11 1L8.5 8.5l.94-2.06 2.06-.94-2.06-.94L8.5 2.5l-.94 2.06-2.06.94zm10 10l.94 2.06.94-2.06 2.06-.94-2.06-.94-.94-2.06-.94 2.06-2.06.94z\"/><path d=\"M17.41 7.96l-1.37-1.37c-.4-.4-.92-.59-1.43-.59-.52 0-1.04.2-1.43.59L10.3 9.45l-7.72 7.72c-.78.78-.78 2.05 0 2.83L4 21.41c.39.39.9.59 1.41.59.51 0 1.02-.2 1.41-.59l7.78-7.78 2.81-2.81c.8-.78.8-2.07 0-2.86zM5.41 20L4 18.59l7.72-7.72 1.47 1.35L5.41 20z\"/>\n",
              "  </svg>\n",
              "      </button>\n",
              "      \n",
              "  <style>\n",
              "    .colab-df-container {\n",
              "      display:flex;\n",
              "      flex-wrap:wrap;\n",
              "      gap: 12px;\n",
              "    }\n",
              "\n",
              "    .colab-df-convert {\n",
              "      background-color: #E8F0FE;\n",
              "      border: none;\n",
              "      border-radius: 50%;\n",
              "      cursor: pointer;\n",
              "      display: none;\n",
              "      fill: #1967D2;\n",
              "      height: 32px;\n",
              "      padding: 0 0 0 0;\n",
              "      width: 32px;\n",
              "    }\n",
              "\n",
              "    .colab-df-convert:hover {\n",
              "      background-color: #E2EBFA;\n",
              "      box-shadow: 0px 1px 2px rgba(60, 64, 67, 0.3), 0px 1px 3px 1px rgba(60, 64, 67, 0.15);\n",
              "      fill: #174EA6;\n",
              "    }\n",
              "\n",
              "    [theme=dark] .colab-df-convert {\n",
              "      background-color: #3B4455;\n",
              "      fill: #D2E3FC;\n",
              "    }\n",
              "\n",
              "    [theme=dark] .colab-df-convert:hover {\n",
              "      background-color: #434B5C;\n",
              "      box-shadow: 0px 1px 3px 1px rgba(0, 0, 0, 0.15);\n",
              "      filter: drop-shadow(0px 1px 2px rgba(0, 0, 0, 0.3));\n",
              "      fill: #FFFFFF;\n",
              "    }\n",
              "  </style>\n",
              "\n",
              "      <script>\n",
              "        const buttonEl =\n",
              "          document.querySelector('#df-7c90e8f9-fece-4fb8-9b82-4860925e9c1b button.colab-df-convert');\n",
              "        buttonEl.style.display =\n",
              "          google.colab.kernel.accessAllowed ? 'block' : 'none';\n",
              "\n",
              "        async function convertToInteractive(key) {\n",
              "          const element = document.querySelector('#df-7c90e8f9-fece-4fb8-9b82-4860925e9c1b');\n",
              "          const dataTable =\n",
              "            await google.colab.kernel.invokeFunction('convertToInteractive',\n",
              "                                                     [key], {});\n",
              "          if (!dataTable) return;\n",
              "\n",
              "          const docLinkHtml = 'Like what you see? Visit the ' +\n",
              "            '<a target=\"_blank\" href=https://colab.research.google.com/notebooks/data_table.ipynb>data table notebook</a>'\n",
              "            + ' to learn more about interactive tables.';\n",
              "          element.innerHTML = '';\n",
              "          dataTable['output_type'] = 'display_data';\n",
              "          await google.colab.output.renderOutput(dataTable, element);\n",
              "          const docLink = document.createElement('div');\n",
              "          docLink.innerHTML = docLinkHtml;\n",
              "          element.appendChild(docLink);\n",
              "        }\n",
              "      </script>\n",
              "    </div>\n",
              "  </div>\n",
              "  "
            ],
            "text/plain": [
              "         date home_team  away_team  ...  id_away_team  etat_match id_tournois\n",
              "0  1969-11-01     Italy     France  ...            64       34509          13\n",
              "1  1969-11-01   Denmark    England  ...            54       18060          13\n",
              "2  1969-11-02   England     France  ...            64       20754          13\n",
              "3  1969-11-02     Italy    Denmark  ...            47       34475          13\n",
              "4  1975-08-25  Thailand  Australia  ...            10        4158           2\n",
              "\n",
              "[5 rows x 14 columns]"
            ]
          },
          "metadata": {},
          "execution_count": 125
        }
      ]
    },
    {
      "cell_type": "code",
      "source": [
        "print(etat_match_id[\"Italy\", 'France', False])\n",
        "print(etat_match_id[\"Denmark\", 'England', True])"
      ],
      "metadata": {
        "colab": {
          "base_uri": "https://localhost:8080/"
        },
        "id": "EOHwe3jfKk9V",
        "outputId": "b108145e-7686-4d41-cb8d-4dcf3abc67cf"
      },
      "execution_count": 126,
      "outputs": [
        {
          "output_type": "stream",
          "name": "stdout",
          "text": [
            "34509\n",
            "18060\n"
          ]
        }
      ]
    },
    {
      "cell_type": "code",
      "source": [
        "matriceCorrelation = data_result_match.corr()\n",
        "print(matriceCorrelation['Win'])"
      ],
      "metadata": {
        "colab": {
          "base_uri": "https://localhost:8080/"
        },
        "id": "wG4PjZQ1xY5-",
        "outputId": "b5114ba6-cac1-404f-89f4-f6872d4e8adc"
      },
      "execution_count": 127,
      "outputs": [
        {
          "output_type": "stream",
          "name": "stdout",
          "text": [
            "home_score     -0.237448\n",
            "away_score      0.529250\n",
            "neutral        -0.033951\n",
            "Win             1.000000\n",
            "id_home_team    0.004386\n",
            "id_away_team    0.026386\n",
            "etat_match      0.026048\n",
            "id_tournois     0.027258\n",
            "Name: Win, dtype: float64\n"
          ]
        }
      ]
    },
    {
      "cell_type": "code",
      "source": [
        "\"\"\" Ici nous choisissons d'utiliser 75% du dataset pour entraîner le modèle et 25% pour effectuer nos tests.\"\"\"\n",
        "# x_train, x_test, y_train, y_test = train_test_split(data_result_match.loc[:, data_result_match.columns.difference(['date', 'Win', 'home_team', 'away_team', 'city', 'country', 'tournament', 'away_score', 'home_score'])], data_result_match['Win'], test_size = 0.25, random_state = 0)\n",
        "x_train, x_test, y_train, y_test = train_test_split(data_result_match[['neutral', 'id_home_team', 'id_away_team', 'id_tournois']], data_result_match['Win'], test_size = 0.25, random_state = 0)\n",
        "\n"
      ],
      "metadata": {
        "id": "3mi6NGzNNkXw"
      },
      "execution_count": 128,
      "outputs": []
    },
    {
      "cell_type": "code",
      "source": [
        "\"\"\" Nous entrainons le modèle en utilisant la méthode de classification avec l'arbre de décision\"\"\"\n",
        "\n",
        "arbre_decision = DecisionTreeClassifier(random_state = 0, max_depth = 20)\n",
        "clf = arbre_decision.fit(x_train, y_train)\n",
        "\n",
        "\n"
      ],
      "metadata": {
        "id": "KT3LOaS2O4jc"
      },
      "execution_count": 129,
      "outputs": []
    },
    {
      "cell_type": "code",
      "source": [
        "\"\"\" Nous effectuons notre prédiction sur notre jeu de test en utilisant le modèle entrainé avec la méthode de classification avecc l'arbre de décision \"\"\"\n",
        "\n",
        "sPredict = clf.predict(x_test)\n",
        "\n",
        "score = accuracy_score(y_test, sPredict)\n",
        "\n",
        "print(score)\n",
        "print(metrics.confusion_matrix(y_test, sPredict))\n",
        "\n",
        "print(y_test.head(10))\n",
        "# for x in sPredict :\n",
        "  # print(x)"
      ],
      "metadata": {
        "id": "Dq6aPWxtLDBl",
        "colab": {
          "base_uri": "https://localhost:8080/"
        },
        "outputId": "760978b7-18e1-4cd4-8444-29d107ccf387"
      },
      "execution_count": 130,
      "outputs": [
        {
          "output_type": "stream",
          "name": "stdout",
          "text": [
            "0.590316573556797\n",
            "[[ 34  80  36]\n",
            " [ 64 427  83]\n",
            " [ 57 120 173]]\n",
            "545     2\n",
            "2232    2\n",
            "3222    1\n",
            "2194    1\n",
            "2971    1\n",
            "1746    2\n",
            "3438    0\n",
            "1811    1\n",
            "220     1\n",
            "3932    2\n",
            "Name: Win, dtype: int64\n"
          ]
        }
      ]
    },
    {
      "cell_type": "code",
      "source": [
        "\"\"\" Nous entrainons le modèle en utilisant la méthode de classification avec le plus proche voisin \"\"\"\n",
        "\n",
        "KNN = KNeighborsClassifier()\n",
        "clf = KNN.fit(x_train, y_train)\n"
      ],
      "metadata": {
        "id": "WUyWNDi4HUSr"
      },
      "execution_count": 131,
      "outputs": []
    },
    {
      "cell_type": "code",
      "source": [
        "\"\"\" Nous effectuons notre prédiction sur notre jeu de test en utilisant le modèle entrainé avec la méthode de classification avec le plus proche de voisin \"\"\"\n",
        "\n",
        "sPredict = clf.predict(x_test)\n",
        "\n",
        "score = accuracy_score(y_test, sPredict);\n",
        "print(score)\n",
        "\n",
        "print(metrics.confusion_matrix(y_test, sPredict))\n"
      ],
      "metadata": {
        "id": "yIolk0XQNGz_",
        "colab": {
          "base_uri": "https://localhost:8080/"
        },
        "outputId": "1006e110-0af6-4685-9b7f-770bb640ca75"
      },
      "execution_count": 132,
      "outputs": [
        {
          "output_type": "stream",
          "name": "stdout",
          "text": [
            "0.5642458100558659\n",
            "[[ 18 103  29]\n",
            " [ 43 451  80]\n",
            " [ 30 183 137]]\n"
          ]
        }
      ]
    },
    {
      "cell_type": "code",
      "source": [
        "\n",
        "\"\"\" Nous entrainons le modèle en utilisant la méthode de classification avec SVM \"\"\"\n",
        "clf = svm.SVC(gamma = 0.001)\n",
        "clf.fit(x_train, y_train)\n"
      ],
      "metadata": {
        "id": "LX0Tf8DRNBxx",
        "colab": {
          "base_uri": "https://localhost:8080/"
        },
        "outputId": "4c12acf1-000b-4d84-c42a-05ee3c9bd8b3"
      },
      "execution_count": 133,
      "outputs": [
        {
          "output_type": "execute_result",
          "data": {
            "text/plain": [
              "SVC(gamma=0.001)"
            ]
          },
          "metadata": {},
          "execution_count": 133
        }
      ]
    },
    {
      "cell_type": "code",
      "source": [
        "\"\"\" Nous effectuons notre prédiction sur notre jeu de test en utilisant le modèle entrainé avec la méthode de classification avec SVM \"\"\"\n",
        "\n",
        "sPredict = clf.predict(x_test)\n",
        "\n",
        "score = accuracy_score(y_test, sPredict);\n",
        "print(score)\n",
        "print(type(x_test))"
      ],
      "metadata": {
        "id": "q1tzJvhNWSAc",
        "colab": {
          "base_uri": "https://localhost:8080/"
        },
        "outputId": "ffd39a93-5240-4fb2-cc1b-12143dc88ed1"
      },
      "execution_count": 134,
      "outputs": [
        {
          "output_type": "stream",
          "name": "stdout",
          "text": [
            "0.5465549348230913\n",
            "<class 'pandas.core.frame.DataFrame'>\n"
          ]
        }
      ]
    }
  ]
}